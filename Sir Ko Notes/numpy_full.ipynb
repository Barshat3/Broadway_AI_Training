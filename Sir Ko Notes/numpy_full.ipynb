{
 "cells": [
  {
   "cell_type": "markdown",
   "id": "bc10d20e",
   "metadata": {},
   "source": [
    "### Numpy"
   ]
  },
  {
   "cell_type": "markdown",
   "id": "fd8321aa",
   "metadata": {},
   "source": [
    "# NumPy Basics: Introduction, Arrays, and Key Concepts\n",
    "\n",
    "Welcome to the **NumPy** tutorial! This notebook will guide you through the basics of NumPy, why it's useful, and introduce you to key functionalities, including arrays, linear algebra, broadcasting, and random number generation.\n",
    "\n",
    "## Table of Contents:\n",
    "1. Introduction to NumPy\n",
    "2. Why Use NumPy?\n",
    "3. Understanding NumPy Arrays\n",
    "4. Arrays vs Python Lists\n",
    "5. Common Array Functions\n",
    "6. Linear Algebra with NumPy\n",
    "7. Broadcasting\n",
    "8. Random Number Generation\n",
    "\n",
    "---\n",
    "\n",
    "## 1. Introduction to NumPy\n",
    "\n",
    "**NumPy** stands for **Numerical Python**. It's a powerful library for numerical computations and data manipulation. NumPy provides a high-performance multidimensional array object and tools to work with these arrays.\n",
    "\n",
    "**Numpy** is the core library for **scientific computing** in Python. It provides a high-performance **multidimensional** array object, and tools for working with these arrays\n",
    "\n",
    "- It is fast, efficient, and a core library for scientific computing with Python.\n",
    "- It supports large, multi-dimensional arrays and matrices, along with a collection of mathematical functions to operate on these arrays.\n",
    "\n",
    "Let's start by importing NumPy:\n"
   ]
  },
  {
   "cell_type": "code",
   "execution_count": 2,
   "id": "054cecb2",
   "metadata": {},
   "outputs": [],
   "source": [
    "import numpy as np"
   ]
  },
  {
   "cell_type": "code",
   "execution_count": 1,
   "id": "ead90898",
   "metadata": {},
   "outputs": [
    {
     "name": "stdout",
     "output_type": "stream",
     "text": [
      "Requirement already satisfied: numpy in /opt/anaconda3/lib/python3.12/site-packages (1.26.4)\n"
     ]
    }
   ],
   "source": [
    "!pip install numpy"
   ]
  },
  {
   "cell_type": "markdown",
   "id": "4f821e7a",
   "metadata": {},
   "source": [
    "## Why Numpy\n",
    "\n",
    "### NumPy is preferred for the following reasons:\n",
    "\n",
    "- Speed: Operations on NumPy arrays are much faster than equivalent Python list operations.\n",
    "- Convenience: NumPy provides many useful functions that make working with data much simpler.\n",
    "- Memory Efficiency: NumPy arrays are more memory efficient than lists.\n",
    "- Interoperability: NumPy arrays are interoperable with other libraries like pandas, matplotlib, and scipy."
   ]
  },
  {
   "cell_type": "code",
   "execution_count": null,
   "id": "19a25218",
   "metadata": {},
   "outputs": [],
   "source": []
  },
  {
   "cell_type": "markdown",
   "id": "ee30663c",
   "metadata": {},
   "source": [
    "## Arrays vs Python Lists\n",
    "\n",
    "### **How is a NumPy array different from a Python list?**\n",
    "\n",
    "- Homogeneity: NumPy arrays store elements of the same data type, while lists can store different types of elements.\n",
    "\n",
    "- Performance: NumPy operations are more efficient than Python lists due to optimization in underlying C code\n",
    "- Functionality: NumPy provides a vast collection of functions for performing mathematical and logical operations on arrays\n"
   ]
  },
  {
   "cell_type": "code",
   "execution_count": 5,
   "id": "ca6148fa",
   "metadata": {},
   "outputs": [],
   "source": [
    "# Python List\n",
    "list_example = [1, \"hello\", 2, 3.5, 4, 5]\n",
    "\n",
    "# NumPy Array\n",
    "array_example = np.array([1, 2, 3, 4, 5], dtype=np.int32)"
   ]
  },
  {
   "cell_type": "code",
   "execution_count": 6,
   "id": "a919468a",
   "metadata": {},
   "outputs": [
    {
     "data": {
      "text/plain": [
       "array([1, 2, 3, 4, 5])"
      ]
     },
     "execution_count": 6,
     "metadata": {},
     "output_type": "execute_result"
    }
   ],
   "source": [
    "array_example"
   ]
  },
  {
   "cell_type": "code",
   "execution_count": 7,
   "id": "f5b59db6",
   "metadata": {},
   "outputs": [],
   "source": [
    "array_example = np.array([1, \"hello\", 2, 3, 4, 5])"
   ]
  },
  {
   "cell_type": "code",
   "execution_count": 8,
   "id": "5ea346c2",
   "metadata": {},
   "outputs": [
    {
     "data": {
      "text/plain": [
       "array(['1', 'hello', '2', '3', '4', '5'], dtype='<U21')"
      ]
     },
     "execution_count": 8,
     "metadata": {},
     "output_type": "execute_result"
    }
   ],
   "source": [
    "array_example"
   ]
  },
  {
   "cell_type": "code",
   "execution_count": null,
   "id": "27afba68",
   "metadata": {},
   "outputs": [],
   "source": []
  },
  {
   "cell_type": "markdown",
   "id": "a49b7f19",
   "metadata": {},
   "source": [
    "## Arrays and array construction\n",
    "\n",
    "A numpy array is a **grid of values**, all of the **same type**, and is indexed by a **tuple of nonnegative integers**. The number of dimensions is the rank of the array; the shape of an array is a tuple of integers giving the size of the array along each dimension.\n",
    "\n",
    "We can create a `numpy` array by passing a Python list to `np.array()`."
   ]
  },
  {
   "cell_type": "code",
   "execution_count": 10,
   "id": "da5d2426",
   "metadata": {},
   "outputs": [],
   "source": [
    "a = np.array([1, 2, 3])  # Create a rank 1 array"
   ]
  },
  {
   "cell_type": "markdown",
   "id": "8b5fff63",
   "metadata": {},
   "source": [
    "This creates the array we can see on the right here:\n",
    "\n",
    "![](http://jalammar.github.io/images/numpy/create-numpy-array-1.png)"
   ]
  },
  {
   "cell_type": "code",
   "execution_count": 17,
   "id": "6a3a1c7a",
   "metadata": {},
   "outputs": [
    {
     "name": "stdout",
     "output_type": "stream",
     "text": [
      "<class 'numpy.ndarray'> \n",
      " Shape:  (3,) \n",
      " Indexed elements:  1 2 3\n",
      "[5 2 3]\n"
     ]
    }
   ],
   "source": [
    "print(type(a), \"\\n\", \"Shape: \", a.shape, \"\\n\", \"Indexed elements: \", a[0], a[1], a[2])\n",
    "a[0] = 5                 # Change an element of the array\n",
    "print(a)"
   ]
  },
  {
   "cell_type": "code",
   "execution_count": 11,
   "id": "ac90c553",
   "metadata": {},
   "outputs": [
    {
     "data": {
      "text/plain": [
       "numpy.ndarray"
      ]
     },
     "execution_count": 11,
     "metadata": {},
     "output_type": "execute_result"
    }
   ],
   "source": [
    "type(a)"
   ]
  },
  {
   "cell_type": "code",
   "execution_count": 14,
   "id": "fe7e778b-8183-4a0b-b8c3-83a90036d75f",
   "metadata": {},
   "outputs": [
    {
     "data": {
      "text/plain": [
       "(3,)"
      ]
     },
     "execution_count": 14,
     "metadata": {},
     "output_type": "execute_result"
    }
   ],
   "source": [
    "a.shape"
   ]
  },
  {
   "cell_type": "code",
   "execution_count": 15,
   "id": "8c76bd76-da12-4631-81ab-870a3f7a88a7",
   "metadata": {},
   "outputs": [
    {
     "data": {
      "text/plain": [
       "1"
      ]
     },
     "execution_count": 15,
     "metadata": {},
     "output_type": "execute_result"
    }
   ],
   "source": [
    "a[0]"
   ]
  },
  {
   "cell_type": "markdown",
   "id": "f33c0e3a",
   "metadata": {},
   "source": [
    "## More Dimensions in Array\n",
    "\n",
    "To create a `numpy` array with more dimensions, we can pass nested lists, like this:\n",
    "\n",
    "![](http://jalammar.github.io/images/numpy/numpy-array-create-2d.png)\n",
    "\n",
    "![](http://jalammar.github.io/images/numpy/numpy-3d-array.png)"
   ]
  },
  {
   "cell_type": "code",
   "execution_count": 38,
   "id": "3273f339",
   "metadata": {},
   "outputs": [
    {
     "name": "stdout",
     "output_type": "stream",
     "text": [
      "[[1 2]\n",
      " [3 4]]\n"
     ]
    }
   ],
   "source": [
    "b = np.array([[1,2],[3,4]])   # Create a rank 2 array\n",
    "print(b)"
   ]
  },
  {
   "cell_type": "code",
   "execution_count": 39,
   "id": "f81268b8",
   "metadata": {},
   "outputs": [
    {
     "name": "stdout",
     "output_type": "stream",
     "text": [
      "(2, 2)\n"
     ]
    }
   ],
   "source": [
    "print(b.shape)"
   ]
  },
  {
   "cell_type": "code",
   "execution_count": 40,
   "id": "bbcbad4f-e275-4c45-85fb-ae4641ab5e4a",
   "metadata": {},
   "outputs": [
    {
     "data": {
      "text/plain": [
       "2"
      ]
     },
     "execution_count": 40,
     "metadata": {},
     "output_type": "execute_result"
    }
   ],
   "source": [
    "b.ndim"
   ]
  },
  {
   "cell_type": "code",
   "execution_count": 5,
   "id": "622d02a9",
   "metadata": {},
   "outputs": [
    {
     "data": {
      "text/plain": [
       "'1.23.5'"
      ]
     },
     "execution_count": 5,
     "metadata": {},
     "output_type": "execute_result"
    }
   ],
   "source": [
    "np.__version__"
   ]
  },
  {
   "cell_type": "markdown",
   "id": "88924245",
   "metadata": {},
   "source": [
    "### What about this?\n"
   ]
  },
  {
   "cell_type": "code",
   "execution_count": 42,
   "id": "2fa59929",
   "metadata": {},
   "outputs": [
    {
     "ename": "ValueError",
     "evalue": "setting an array element with a sequence. The requested array has an inhomogeneous shape after 1 dimensions. The detected shape was (2,) + inhomogeneous part.",
     "output_type": "error",
     "traceback": [
      "\u001b[0;31m---------------------------------------------------------------------------\u001b[0m",
      "\u001b[0;31mValueError\u001b[0m                                Traceback (most recent call last)",
      "Cell \u001b[0;32mIn[42], line 2\u001b[0m\n\u001b[1;32m      1\u001b[0m \u001b[38;5;28;01mimport\u001b[39;00m\u001b[38;5;250m \u001b[39m\u001b[38;5;21;01mnumpy\u001b[39;00m\u001b[38;5;250m \u001b[39m\u001b[38;5;28;01mas\u001b[39;00m\u001b[38;5;250m \u001b[39m\u001b[38;5;21;01mnp\u001b[39;00m\n\u001b[0;32m----> 2\u001b[0m b \u001b[38;5;241m=\u001b[39m np\u001b[38;5;241m.\u001b[39marray([[\u001b[38;5;241m1\u001b[39m,\u001b[38;5;241m2\u001b[39m],[\u001b[38;5;241m3\u001b[39m,\u001b[38;5;241m4\u001b[39m, \u001b[38;5;241m5\u001b[39m]])\n\u001b[1;32m      3\u001b[0m \u001b[38;5;28mprint\u001b[39m(b\u001b[38;5;241m.\u001b[39mndim)\n\u001b[1;32m      4\u001b[0m \u001b[38;5;28mprint\u001b[39m(b)\n",
      "\u001b[0;31mValueError\u001b[0m: setting an array element with a sequence. The requested array has an inhomogeneous shape after 1 dimensions. The detected shape was (2,) + inhomogeneous part."
     ]
    }
   ],
   "source": [
    "import numpy as np\n",
    "b = np.array([[1,2],[3,4, 5]])\n",
    "print(b.ndim)\n",
    "print(b)"
   ]
  },
  {
   "cell_type": "code",
   "execution_count": 43,
   "id": "979b3131",
   "metadata": {},
   "outputs": [
    {
     "name": "stdout",
     "output_type": "stream",
     "text": [
      "[[[1 2]\n",
      "  [3 4]]\n",
      "\n",
      " [[5 6]\n",
      "  [7 8]]]\n"
     ]
    }
   ],
   "source": [
    "b = np.array([\n",
    "    [[1,2],[3,4]],\n",
    "    [[5,6], [7,8]]\n",
    "])  ## adding 1 more block\n",
    "print(b)"
   ]
  },
  {
   "cell_type": "code",
   "execution_count": 10,
   "id": "5299f734",
   "metadata": {},
   "outputs": [],
   "source": [
    "b = np.array([\n",
    "    [[1,2],[3,4]],\n",
    "    [[5,6], [7,8]]\n",
    "])"
   ]
  },
  {
   "cell_type": "code",
   "execution_count": 11,
   "id": "7167b0a5",
   "metadata": {},
   "outputs": [
    {
     "name": "stdout",
     "output_type": "stream",
     "text": [
      "(2, 2, 2)\n",
      "Number of dimensions (rank): 3\n"
     ]
    }
   ],
   "source": [
    "print(b.shape)\n",
    "print(\"Number of dimensions (rank):\", b.ndim)\n"
   ]
  },
  {
   "cell_type": "markdown",
   "id": "01e112aa",
   "metadata": {},
   "source": [
    "## Array indexing\n",
    "\n",
    "Numpy offers several ways to index into arrays.\n",
    "\n",
    "We can index and slice numpy arrays in all the ways we can slice Python lists:\n",
    "\n",
    "![](http://jalammar.github.io/images/numpy/numpy-array-slice.png)\n",
    "\n",
    "And you can index and slice numpy arrays in multiple dimensions. If slicing an array with more than one dimension, you should specify a slice for each dimension:\n",
    "\n",
    "![](http://jalammar.github.io/images/numpy/numpy-matrix-indexing.png)"
   ]
  },
  {
   "cell_type": "code",
   "execution_count": 39,
   "id": "fd56fe1b",
   "metadata": {},
   "outputs": [
    {
     "name": "stdout",
     "output_type": "stream",
     "text": [
      "[[2 3]\n",
      " [6 7]]\n"
     ]
    }
   ],
   "source": [
    "# Create the following rank 2 array with shape (3, 4)\n",
    "# [[ 1  2  3  4]\n",
    "#  [ 5  6  7  8]\n",
    "#  [ 9 10 11 12]]\n",
    "a = np.array([[1,2,3,4], [5,6,7,8], [9,10,11,12]])\n",
    "\n",
    "# Use slicing to pull out the subarray consisting of the first 2 rows\n",
    "# and columns 1 and 2; b is the following array of shape (2, 2):\n",
    "# [[2 3]\n",
    "#  [6 7]]\n",
    "b = a[0:2, 1:3]\n",
    "print(b)"
   ]
  },
  {
   "cell_type": "code",
   "execution_count": 40,
   "id": "ad0abef1",
   "metadata": {},
   "outputs": [
    {
     "name": "stdout",
     "output_type": "stream",
     "text": [
      "[[ 5  6]\n",
      " [ 9 10]]\n"
     ]
    }
   ],
   "source": [
    "# [[ 5  6]\n",
    "#  [ 9 10]]\n",
    "b = a[1:3, :2]\n",
    "print(b)"
   ]
  },
  {
   "cell_type": "code",
   "execution_count": null,
   "id": "2b764382",
   "metadata": {},
   "outputs": [],
   "source": []
  },
  {
   "cell_type": "code",
   "execution_count": 41,
   "id": "b6ef0b6a",
   "metadata": {},
   "outputs": [
    {
     "name": "stdout",
     "output_type": "stream",
     "text": [
      "[[ 1  2  3  4]\n",
      " [ 5  6  7  8]\n",
      " [ 9 10 11 12]]\n"
     ]
    }
   ],
   "source": [
    "# Create the following rank 2 array with shape (3, 4)\n",
    "a = np.array([[1,2,3,4], [5,6,7,8], [9,10,11,12]])\n",
    "print(a)"
   ]
  },
  {
   "cell_type": "code",
   "execution_count": 43,
   "id": "4050b6d9",
   "metadata": {},
   "outputs": [
    {
     "name": "stdout",
     "output_type": "stream",
     "text": [
      "[5 6 7 8] (4,)\n",
      "[[5 6 7 8]] (1, 4)\n",
      "[[5 6 7 8]] (1, 4)\n"
     ]
    }
   ],
   "source": [
    "row_r1 = a[1, :]    # Rank 1 view of the second row of a\n",
    "row_r2 = a[1:2, :]  # Rank 2 view of the second row of a\n",
    "row_r3 = a[[1], :]  # Rank 2 view of the second row of a\n",
    "print(row_r1, row_r1.shape)\n",
    "print(row_r2, row_r2.shape)\n",
    "print(row_r3, row_r3.shape)"
   ]
  },
  {
   "cell_type": "code",
   "execution_count": null,
   "id": "3645cc25",
   "metadata": {},
   "outputs": [],
   "source": []
  },
  {
   "cell_type": "markdown",
   "id": "b3471dd1",
   "metadata": {},
   "source": [
    "## Initialize the values of the array using different numpy methods\n",
    "\n",
    "There are often cases when we want numpy to initialize the values of the array for us. numpy provides methods like `ones()`, `zeros()`, and `random.random()` for these cases. We just pass them the number of elements we want it to generate:\n",
    "\n",
    "![](http://jalammar.github.io/images/numpy/create-numpy-array-ones-zeros-random.png)"
   ]
  },
  {
   "cell_type": "markdown",
   "id": "7d204f50",
   "metadata": {},
   "source": [
    "We can also use these **methods** to produce **multi-dimensional arrays**, as long as we pass them a tuple describing the dimensions of the matrix we want to create:\n",
    "\n",
    "![](http://jalammar.github.io/images/numpy/numpy-matrix-ones-zeros-random.png)\n",
    "\n",
    "![](http://jalammar.github.io/images/numpy/numpy-3d-array-creation.png)"
   ]
  },
  {
   "cell_type": "code",
   "execution_count": 47,
   "id": "d9b7b853",
   "metadata": {},
   "outputs": [
    {
     "name": "stdout",
     "output_type": "stream",
     "text": [
      "[[0. 0.]\n",
      " [0. 0.]]\n"
     ]
    }
   ],
   "source": [
    "a = np.zeros((2,2))  # Create an array of all zeros\n",
    "print(a)"
   ]
  },
  {
   "cell_type": "code",
   "execution_count": 45,
   "id": "10af0f99",
   "metadata": {},
   "outputs": [
    {
     "name": "stdout",
     "output_type": "stream",
     "text": [
      "[[1. 1.]\n",
      " [1. 1.]]\n"
     ]
    }
   ],
   "source": [
    "b = np.ones((2,2))   # Create an array of all ones\n",
    "print(b)"
   ]
  },
  {
   "cell_type": "code",
   "execution_count": 51,
   "id": "51bcb4e8",
   "metadata": {},
   "outputs": [
    {
     "name": "stdout",
     "output_type": "stream",
     "text": [
      "[[2 2]\n",
      " [2 2]]\n"
     ]
    }
   ],
   "source": [
    "c = np.full((2,2), 2) # Create a constant array\n",
    "print(c)"
   ]
  },
  {
   "cell_type": "code",
   "execution_count": 47,
   "id": "b8310906",
   "metadata": {},
   "outputs": [
    {
     "name": "stdout",
     "output_type": "stream",
     "text": [
      "[[1. 0.]\n",
      " [0. 1.]]\n",
      "float64\n"
     ]
    }
   ],
   "source": [
    "d = np.eye(2)        # Create a 2x2 identity matrix\n",
    "print(d)\n",
    "print(d.dtype)"
   ]
  },
  {
   "cell_type": "code",
   "execution_count": 55,
   "id": "ef437c5a",
   "metadata": {},
   "outputs": [
    {
     "name": "stdout",
     "output_type": "stream",
     "text": [
      "[[0.45837465 0.74061876]\n",
      " [0.96990441 0.70332725]]\n"
     ]
    }
   ],
   "source": [
    "e = np.random.random((2,2)) # Create an array filled with random values\n",
    "print(e)"
   ]
  },
  {
   "cell_type": "code",
   "execution_count": null,
   "id": "83f372f4",
   "metadata": {},
   "outputs": [],
   "source": []
  },
  {
   "cell_type": "markdown",
   "id": "fded2f06",
   "metadata": {},
   "source": [
    "### `vstack()` and `hstack()` (`row_stack` and `column_stack`)\n",
    "\n",
    "Sometimes, we may want to construct an array from existing arrays by “stacking” the existing arrays, either vertically or horizontally. We can use `vstack()` (or `row_stack`) and `hstack()` (or `column_stack`), respectively.\n"
   ]
  },
  {
   "cell_type": "code",
   "execution_count": 57,
   "id": "9cc63625",
   "metadata": {},
   "outputs": [
    {
     "data": {
      "text/plain": [
       "array([[1, 2, 3],\n",
       "       [4, 5, 6]])"
      ]
     },
     "execution_count": 57,
     "metadata": {},
     "output_type": "execute_result"
    }
   ],
   "source": [
    "a = np.array([1, 2, 3])\n",
    "b = np.array([4, 5, 6])\n",
    "np.vstack((a,b))"
   ]
  },
  {
   "cell_type": "code",
   "execution_count": 12,
   "id": "2962b3e7",
   "metadata": {},
   "outputs": [
    {
     "name": "stdout",
     "output_type": "stream",
     "text": [
      "[[7]\n",
      " [8]\n",
      " [9]]\n",
      "[[4]\n",
      " [5]\n",
      " [6]]\n"
     ]
    },
    {
     "data": {
      "text/plain": [
       "array([[7, 4],\n",
       "       [8, 5],\n",
       "       [9, 6]])"
      ]
     },
     "execution_count": 12,
     "metadata": {},
     "output_type": "execute_result"
    }
   ],
   "source": [
    "a = np.array([[7], [8], [9]])\n",
    "print(a)\n",
    "b = np.array([[4], [5], [6]])\n",
    "print(b)\n",
    "np.hstack((a,b))"
   ]
  },
  {
   "cell_type": "code",
   "execution_count": null,
   "id": "ec3b4a7e",
   "metadata": {},
   "outputs": [],
   "source": []
  },
  {
   "cell_type": "markdown",
   "id": "9bf579e6",
   "metadata": {},
   "source": [
    "### Datatypes\n",
    "\n",
    "Every numpy array is a grid of elements of the same type. Numpy provides a large set of numeric datatypes that you can use to construct arrays. Numpy tries to guess a datatype when you create an array, but functions that construct arrays usually also include an optional argument to explicitly specify the datatype. Here is an example:"
   ]
  },
  {
   "cell_type": "code",
   "execution_count": 4,
   "id": "e83aeaa5",
   "metadata": {},
   "outputs": [
    {
     "name": "stdout",
     "output_type": "stream",
     "text": [
      "int64 float64 int64\n"
     ]
    }
   ],
   "source": [
    "x = np.array([1, 2])  # Let numpy choose the datatype\n",
    "y = np.array([1.0, 2.0])  # Let numpy choose the datatype\n",
    "z = np.array([1, 2], dtype=np.int64)  # Force a particular datatype\n",
    "\n",
    "print(x.dtype, y.dtype, z.dtype)"
   ]
  },
  {
   "cell_type": "markdown",
   "id": "dbdb4459",
   "metadata": {},
   "source": [
    "You can read all about numpy datatypes in the [documentation](http://docs.scipy.org/doc/numpy/reference/arrays.dtypes.html)."
   ]
  },
  {
   "cell_type": "markdown",
   "id": "f5b6c651",
   "metadata": {},
   "source": [
    "## Array math"
   ]
  },
  {
   "cell_type": "markdown",
   "id": "3789775d",
   "metadata": {},
   "source": [
    "What makes working with `numpy` so powerful and convenient is that it comes with many *vectorized* math functions for computation over elements of an array. These functions are highly optimized and are *very* fast - much, much faster than using an explicit `for` loop.\n",
    "\n",
    "For example, let’s create a large array of random values and then sum it both ways. We’ll use a `%%time` *cell magic* to time them.\n",
    "\n",
    "**This tells us how powerful and optimized the numpy is**"
   ]
  },
  {
   "cell_type": "code",
   "execution_count": 16,
   "id": "9a29984a",
   "metadata": {},
   "outputs": [
    {
     "data": {
      "text/plain": [
       "array([0.01935012, 0.53242236, 0.10374168, ..., 0.94554206, 0.98977633,\n",
       "       0.01079096])"
      ]
     },
     "execution_count": 16,
     "metadata": {},
     "output_type": "execute_result"
    }
   ],
   "source": [
    "import numpy as np\n",
    "a = np.random.random(100000000)\n",
    "a"
   ]
  },
  {
   "cell_type": "code",
   "execution_count": 17,
   "id": "2a7e4b0c",
   "metadata": {},
   "outputs": [
    {
     "name": "stdout",
     "output_type": "stream",
     "text": [
      "CPU times: user 47.1 ms, sys: 148 ms, total: 195 ms\n",
      "Wall time: 219 ms\n"
     ]
    }
   ],
   "source": [
    "%%time\n",
    "x = np.sum(a)"
   ]
  },
  {
   "cell_type": "code",
   "execution_count": 4,
   "id": "cd3a4138",
   "metadata": {},
   "outputs": [
    {
     "name": "stdout",
     "output_type": "stream",
     "text": [
      "CPU times: user 7.22 s, sys: 166 ms, total: 7.39 s\n",
      "Wall time: 7.5 s\n"
     ]
    }
   ],
   "source": [
    "%%time\n",
    "x = 0\n",
    "for element in a:\n",
    "  x = x + element"
   ]
  },
  {
   "cell_type": "code",
   "execution_count": 5,
   "id": "16861e88",
   "metadata": {},
   "outputs": [
    {
     "data": {
      "text/plain": [
       "49995974.02745829"
      ]
     },
     "execution_count": 5,
     "metadata": {},
     "output_type": "execute_result"
    }
   ],
   "source": [
    "x"
   ]
  },
  {
   "cell_type": "markdown",
   "id": "62c3636d",
   "metadata": {},
   "source": [
    "Look at the “Wall Time” in the output - note how much faster the vectorized version of the operation is! This type of fast computation is a major enabler of machine learning, which requires a *lot* of computation.\n",
    "\n",
    "Whenever possible, we will try to use these vectorized operations."
   ]
  },
  {
   "cell_type": "code",
   "execution_count": 9,
   "id": "e559a584",
   "metadata": {
    "scrolled": true
   },
   "outputs": [
    {
     "name": "stdout",
     "output_type": "stream",
     "text": [
      "[[ 6.  8.]\n",
      " [10. 12.]]\n",
      "[[ 6.  8.]\n",
      " [10. 12.]]\n"
     ]
    }
   ],
   "source": [
    "# Add\n",
    "\n",
    "x = np.array([[1,2],[3,4]], dtype=np.float64)\n",
    "y = np.array([[5,6],[7,8]], dtype=np.float64)\n",
    "\n",
    "# Elementwise sum; both produce the array\n",
    "print(x + y)\n",
    "print(np.add(x, y))"
   ]
  },
  {
   "cell_type": "code",
   "execution_count": 12,
   "id": "348ef09c",
   "metadata": {},
   "outputs": [
    {
     "name": "stdout",
     "output_type": "stream",
     "text": [
      "[[-4. -4.]\n",
      " [-4. -4.]]\n",
      "[[-4. -4.]\n",
      " [-4. -4.]]\n"
     ]
    }
   ],
   "source": [
    "# Elementwise difference; both produce the array\n",
    "print(x - y)\n",
    "print(np.subtract(x, y))"
   ]
  },
  {
   "cell_type": "code",
   "execution_count": 73,
   "id": "0b5bf118",
   "metadata": {},
   "outputs": [
    {
     "name": "stdout",
     "output_type": "stream",
     "text": [
      "[[ 5. 12.]\n",
      " [21. 32.]]\n",
      "[[ 5. 12.]\n",
      " [21. 32.]]\n"
     ]
    }
   ],
   "source": [
    "# Elementwise product; both produce the array\n",
    "print(x * y)\n",
    "print(np.multiply(x, y))"
   ]
  },
  {
   "cell_type": "code",
   "execution_count": 16,
   "id": "7f6b5518",
   "metadata": {},
   "outputs": [
    {
     "name": "stdout",
     "output_type": "stream",
     "text": [
      "[[0.2        0.33333333]\n",
      " [0.42857143 0.5       ]]\n",
      "[[0.2        0.33333333]\n",
      " [0.42857143 0.5       ]]\n"
     ]
    }
   ],
   "source": [
    "# Elementwise division; both produce the array\n",
    "# [[ 0.2         0.33333333]\n",
    "#  [ 0.42857143  0.5       ]]\n",
    "print(x / y)\n",
    "print(np.divide(x, y))"
   ]
  },
  {
   "cell_type": "code",
   "execution_count": 17,
   "id": "1fb369f2",
   "metadata": {},
   "outputs": [
    {
     "name": "stdout",
     "output_type": "stream",
     "text": [
      "[[1.         1.41421356]\n",
      " [1.73205081 2.        ]]\n"
     ]
    }
   ],
   "source": [
    "# Elementwise square root; produces the array\n",
    "# [[ 1.          1.41421356]\n",
    "#  [ 1.73205081  2.        ]]\n",
    "print(np.sqrt(x))"
   ]
  },
  {
   "cell_type": "markdown",
   "id": "6f700835",
   "metadata": {},
   "source": [
    "![](http://jalammar.github.io/images/numpy/numpy-array-subtract-multiply-divide.png)"
   ]
  },
  {
   "cell_type": "markdown",
   "id": "68e42647",
   "metadata": {},
   "source": [
    "### Dot product"
   ]
  },
  {
   "cell_type": "code",
   "execution_count": 1,
   "id": "d3a21089",
   "metadata": {},
   "outputs": [
    {
     "name": "stdout",
     "output_type": "stream",
     "text": [
      "219\n",
      "219\n"
     ]
    }
   ],
   "source": [
    "import numpy as np\n",
    "\n",
    "x = np.array([[1,2],[3,4]])\n",
    "y = np.array([[5,6],[7,8]])\n",
    "\n",
    "v = np.array([9,10])\n",
    "w = np.array([11, 12])\n",
    "\n",
    "# Inner product of vectors; both produce 219\n",
    "print(v.dot(w))\n",
    "print(np.dot(v, w))"
   ]
  },
  {
   "cell_type": "markdown",
   "id": "4ec6328e",
   "metadata": {},
   "source": [
    "You can also use the `@` operator which is equivalent to numpy's `dot` operator."
   ]
  },
  {
   "cell_type": "code",
   "execution_count": 23,
   "id": "4bd9c8a2",
   "metadata": {},
   "outputs": [
    {
     "name": "stdout",
     "output_type": "stream",
     "text": [
      "[29 67]\n",
      "[29 67]\n",
      "[29 67]\n"
     ]
    }
   ],
   "source": [
    "# Matrix / vector product; both produce the rank 1 array [29 67]\n",
    "print(x.dot(v))\n",
    "print(np.dot(x, v))\n",
    "print(x @ v)"
   ]
  },
  {
   "cell_type": "code",
   "execution_count": null,
   "id": "4289c640",
   "metadata": {},
   "outputs": [],
   "source": [
    "np.cross(A,B)"
   ]
  },
  {
   "cell_type": "markdown",
   "id": "67fa0256",
   "metadata": {},
   "source": [
    "### You can find the full list of mathematical functions provided by numpy in the [documentation](http://docs.scipy.org/doc/numpy/reference/routines.math.html)."
   ]
  },
  {
   "cell_type": "code",
   "execution_count": null,
   "id": "aaa50d2d",
   "metadata": {},
   "outputs": [],
   "source": []
  },
  {
   "cell_type": "markdown",
   "id": "35469739",
   "metadata": {},
   "source": [
    "## Example: Predicting house prices using weighted features"
   ]
  },
  {
   "cell_type": "markdown",
   "id": "006bf644",
   "metadata": {},
   "source": [
    "### Imagine we are building a simple machine learning model to predict house prices based on several features (like square footage, number of bedrooms, and age of the house). The weights for each feature represent how important that feature is in predicting the price."
   ]
  },
  {
   "cell_type": "markdown",
   "id": "9e872f28",
   "metadata": {},
   "source": [
    "Problem setup:\n",
    "- You have a house with the following features:\n",
    "    - Square footage: 1500 sq ft\n",
    "    - Number of bedrooms: 3\n",
    "    - Age of the house: 10 years\n",
    "- The model's weights are:\n",
    "    - Weight for square footage: 100 (indicating USD 100 per sq ft)\n",
    "    - Weight for number of bedrooms: 5000 (indicating USD 5000 per bedroom)\n",
    "    - Weight for the age of the house: -2000 (indicating a decrease of USD 2000 per year of age)\n",
    "\n",
    "To predict the house price, we would calculate the dot product between the features and their corresponding weights."
   ]
  },
  {
   "cell_type": "code",
   "execution_count": 1,
   "id": "cce467e4",
   "metadata": {},
   "outputs": [
    {
     "name": "stdout",
     "output_type": "stream",
     "text": [
      "The predicted price of the house is: $145000\n"
     ]
    }
   ],
   "source": [
    "import numpy as np\n",
    "\n",
    "# Define the features of the house\n",
    "features = np.array([1500, 3, 10])  # [square footage, number of bedrooms, age of the house]\n",
    "\n",
    "# Define the weights (importance of each feature)\n",
    "weights = np.array([100, 5000, -2000])  # weights corresponding to [square footage, bedrooms, age]\n",
    "\n",
    "# Calculate the predicted price using the dot product\n",
    "predicted_price = np.dot(features, weights)\n",
    "\n",
    "print(f\"The predicted price of the house is: ${predicted_price}\")"
   ]
  },
  {
   "cell_type": "markdown",
   "id": "f6878df3",
   "metadata": {},
   "source": [
    "- features is a 1D array with the house's characteristics.\n",
    "- weights is a 1D array with the importance (weight) of each feature.\n",
    "- np.dot(features, weights) calculates the dot product of the features and weights arrays, which gives the predicted price of the house."
   ]
  },
  {
   "cell_type": "code",
   "execution_count": 54,
   "id": "dc7a6b92",
   "metadata": {},
   "outputs": [
    {
     "name": "stdout",
     "output_type": "stream",
     "text": [
      "[2 3]\n"
     ]
    }
   ],
   "source": [
    "preds = np.array([0.2, 0.5, 0.92, 0.9, 0.1])\n",
    "# predicted_class_index = np.argmax(preds)\n",
    "# to_predict_class = [\"apple\", \"banana\", \"ball\", \"mango\", \"orange\"]\n",
    "# predicted_class = to_predict_class[predicted_class_index]\n",
    "# print(predicted_class)\n",
    "\n",
    "to_predict_class = [\"apple\", \"banana\", \"ball\", \"mango\", \"orange\"]\n",
    "possible_class_indexs = np.where(preds > 0.85)[0]\n",
    "print(possible_class_indexs)\n",
    "\n",
    "# for possible_class_index in possible_class_indexs:\n",
    "#     print(to_predict_class[possible_class_index])\n"
   ]
  },
  {
   "cell_type": "markdown",
   "id": "bf20a686",
   "metadata": {},
   "source": [
    "### -   [`argmax`](https://numpy.org/doc/stable/reference/generated/numpy.argmax.html) (get index of maximum element in array)\n",
    "### -   [`argmin`](https://numpy.org/doc/stable/reference/generated/numpy.argmin.html) (get index of minimum element in array)\n",
    "### -   [`argsort`](https://numpy.org/doc/stable/reference/generated/numpy.argsort.html) (get sorted list of indices, by element value, in ascending order)\n",
    "### -   [`where`](https://numpy.org/doc/stable/reference/generated/numpy.where.html) (get indices of elements that meet some condition)"
   ]
  },
  {
   "cell_type": "code",
   "execution_count": 35,
   "id": "88c31348",
   "metadata": {},
   "outputs": [
    {
     "name": "stdout",
     "output_type": "stream",
     "text": [
      "2\n"
     ]
    }
   ],
   "source": [
    "a = np.array([1, 8, 9, -3, 2, 4, 7, 9])\n",
    "# Get the index of the maximum element in a\n",
    "print(np.argmax(a))\n",
    "\n"
   ]
  },
  {
   "cell_type": "code",
   "execution_count": 36,
   "id": "76940e8a",
   "metadata": {},
   "outputs": [
    {
     "name": "stdout",
     "output_type": "stream",
     "text": [
      "3\n"
     ]
    }
   ],
   "source": [
    "# Get the index of the minimum element in a\n",
    "# (this array has two elements with the maximum value -\n",
    "# only one index is returned)\n",
    "print(np.argmin(a))\n"
   ]
  },
  {
   "cell_type": "code",
   "execution_count": 37,
   "id": "db9e23c0",
   "metadata": {},
   "outputs": [
    {
     "name": "stdout",
     "output_type": "stream",
     "text": [
      "[3 0 4 5 6 1 2 7]\n"
     ]
    }
   ],
   "source": [
    "# Get sorted list of indices\n",
    "print(np.argsort(a))\n",
    "\n"
   ]
  },
  {
   "cell_type": "code",
   "execution_count": 38,
   "id": "aa09eaaa",
   "metadata": {},
   "outputs": [
    {
     "name": "stdout",
     "output_type": "stream",
     "text": [
      "[7 2 1 6 5 4 0 3]\n"
     ]
    }
   ],
   "source": [
    "# Get sorted list of indices in descending order\n",
    "# [::-1] is a special slicing index that returns the reversed list\n",
    "print(np.argsort(a)[::-1])\n",
    "\n"
   ]
  },
  {
   "cell_type": "code",
   "execution_count": 39,
   "id": "59f53e4a",
   "metadata": {},
   "outputs": [
    {
     "name": "stdout",
     "output_type": "stream",
     "text": [
      "[1 2 6 7]\n",
      "[2 7]\n"
     ]
    }
   ],
   "source": [
    "# Get indices of elements that meet some condition\n",
    "# this returns a tuple, the list of indices is the first entry\n",
    "# so we use [0] to get it\n",
    "print(np.where(a > 5)[0])\n",
    "\n",
    "# Get indices of elements that meet some condition\n",
    "# this example shows how to get the index of *all* the max values\n",
    "print(np.where(a >= a[np.argmax(a)])[0])"
   ]
  },
  {
   "cell_type": "markdown",
   "id": "22dc6d9d",
   "metadata": {},
   "source": [
    "### Some more simple methods: Max, Min, Sum"
   ]
  },
  {
   "cell_type": "code",
   "execution_count": 40,
   "id": "07a99055",
   "metadata": {},
   "outputs": [
    {
     "name": "stdout",
     "output_type": "stream",
     "text": [
      "6\n",
      "1\n",
      "21\n"
     ]
    }
   ],
   "source": [
    "x = np.array([[1, 2], [3, 4], [5, 6]])\n",
    "\n",
    "print(np.max(x))  # Compute max of all elements; prints \"6\"\n",
    "print(np.min(x))  # Compute min of all elements; prints \"1\"\n",
    "print(np.sum(x))  # Compute sum of all elements; prints \"21\""
   ]
  },
  {
   "cell_type": "code",
   "execution_count": 9,
   "id": "f0f8c7c0",
   "metadata": {},
   "outputs": [
    {
     "name": "stdout",
     "output_type": "stream",
     "text": [
      "[[1 2 8]\n",
      " [5 3 1]\n",
      " [4 6 5]]\n",
      "[5 6 8]\n",
      "[8 5 6]\n"
     ]
    }
   ],
   "source": [
    "x = np.array([[1, 2, 8], [5, 3, 1], [4, 6, 5]])\n",
    "print(x)\n",
    "\n",
    "\n",
    "print(np.max(x, axis=0))  # Compute max of each column; prints \"[5 6]\"\n",
    "print(np.max(x, axis=1))  # Compute max of each row; prints \"[2 5 6]\""
   ]
  },
  {
   "cell_type": "markdown",
   "id": "5e2aa561",
   "metadata": {},
   "source": [
    "### Transpose, reshape"
   ]
  },
  {
   "cell_type": "markdown",
   "id": "fbdc6a39",
   "metadata": {},
   "source": [
    "we frequently need to reshape or otherwise manipulate data in arrays. The simplest example of this type of operation is transposing a matrix; to transpose a matrix, simply use the T attribute of an array object.\n",
    "\n",
    "![](http://jalammar.github.io/images/numpy/numpy-transpose.png)"
   ]
  },
  {
   "cell_type": "code",
   "execution_count": 48,
   "id": "2acab2c6",
   "metadata": {},
   "outputs": [],
   "source": [
    "ary = np.array([1,2])\n",
    "ary.T"
   ]
  },
  {
   "cell_type": "code",
   "execution_count": 21,
   "id": "b97753a3",
   "metadata": {},
   "outputs": [
    {
     "name": "stdout",
     "output_type": "stream",
     "text": [
      "[[1 2]\n",
      " [3 4]\n",
      " [5 6]]\n",
      "transpose\n",
      " [[1 3 5]\n",
      " [2 4 6]]\n"
     ]
    }
   ],
   "source": [
    "x = np.array([[1, 2], [3, 4], [5, 6]])\n",
    "\n",
    "print(x)\n",
    "print(\"transpose\\n\", x.T)"
   ]
  },
  {
   "cell_type": "code",
   "execution_count": 13,
   "id": "b9740ccf",
   "metadata": {
    "collapsed": true,
    "jupyter": {
     "outputs_hidden": true
    }
   },
   "outputs": [
    {
     "name": "stdout",
     "output_type": "stream",
     "text": [
      "[[1 2 3]]\n",
      "transpose\n",
      " [[1]\n",
      " [2]\n",
      " [3]]\n"
     ]
    }
   ],
   "source": [
    "v = np.array([[1,2,3]])\n",
    "print(v )\n",
    "print(\"transpose\\n\", v.T)"
   ]
  },
  {
   "cell_type": "markdown",
   "id": "0ae93a61",
   "metadata": {},
   "source": [
    "### rehsape and why reshape?\n",
    "\n",
    "you may find yourself needing to change the dimensions of a certain matrix. This is often the case in machine learning applications where a certain model expects a certain shape for the inputs that is different from your dataset. numpy's `reshape()` method is useful in these cases.\n",
    "\n",
    "![](http://jalammar.github.io/images/numpy/numpy-reshape.png)"
   ]
  },
  {
   "cell_type": "markdown",
   "id": "cf1512c5",
   "metadata": {},
   "source": [
    "For example, suppose we had this 2D array, but we need to pass it to a function that expects a 1D array.\n"
   ]
  },
  {
   "cell_type": "code",
   "execution_count": 27,
   "id": "4492b9a5",
   "metadata": {},
   "outputs": [
    {
     "data": {
      "text/plain": [
       "array([[1, 2, 3, 4],\n",
       "       [5, 6, 7, 8]])"
      ]
     },
     "execution_count": 27,
     "metadata": {},
     "output_type": "execute_result"
    }
   ],
   "source": [
    "data = np.array([1,2,3,4,5,6, 7, 8])\n",
    "data.reshape(2,4)"
   ]
  },
  {
   "cell_type": "code",
   "execution_count": 27,
   "id": "a42d3b71",
   "metadata": {},
   "outputs": [
    {
     "name": "stdout",
     "output_type": "stream",
     "text": [
      "[[1]\n",
      " [2]\n",
      " [3]]\n"
     ]
    },
    {
     "data": {
      "text/plain": [
       "(3, 1)"
      ]
     },
     "execution_count": 27,
     "metadata": {},
     "output_type": "execute_result"
    }
   ],
   "source": [
    "w = np.array([[1],[2],[3]])\n",
    "print(w)\n",
    "w.shape"
   ]
  },
  {
   "cell_type": "markdown",
   "id": "e1587b18",
   "metadata": {},
   "source": [
    "We can remove the “unnecessary” extra dimension with"
   ]
  },
  {
   "cell_type": "code",
   "execution_count": 32,
   "id": "a6ef44c4",
   "metadata": {},
   "outputs": [
    {
     "name": "stdout",
     "output_type": "stream",
     "text": [
      "[1 2 3]\n"
     ]
    },
    {
     "data": {
      "text/plain": [
       "(3,)"
      ]
     },
     "execution_count": 32,
     "metadata": {},
     "output_type": "execute_result"
    }
   ],
   "source": [
    "y = w.reshape(-1,)  # we can pass -1 as one dimension and numpy will infer the correct size based on our matrix size!\n",
    "print(y)\n",
    "y.shape"
   ]
  },
  {
   "cell_type": "markdown",
   "id": "29b914bd",
   "metadata": {},
   "source": [
    "### `squeeze()`\n",
    "There’s also a `squeeze()` function that removes *all* of the “unnecessary” dimensions (dimensions that have size 1) from an array\n",
    "\n",
    "squeeze() is used to remove single-dimensional entries from the shape of an array. This can be helpful when you have arrays with dimensions like (1, n) or (n, 1) that you want to collapse to a simpler shape."
   ]
  },
  {
   "cell_type": "code",
   "execution_count": 56,
   "id": "372f3b3b",
   "metadata": {},
   "outputs": [
    {
     "name": "stdout",
     "output_type": "stream",
     "text": [
      "[1 2 3]\n"
     ]
    },
    {
     "data": {
      "text/plain": [
       "(3,)"
      ]
     },
     "execution_count": 56,
     "metadata": {},
     "output_type": "execute_result"
    }
   ],
   "source": [
    "w = np.array([[1],[2],[3]])\n",
    "\n",
    "z = w.squeeze()\n",
    "print(z)\n",
    "z.shape"
   ]
  },
  {
   "cell_type": "code",
   "execution_count": 29,
   "id": "0bafe756",
   "metadata": {},
   "outputs": [
    {
     "name": "stdout",
     "output_type": "stream",
     "text": [
      "(1, 3)\n",
      "(3,)\n",
      "[1 2 3]\n"
     ]
    }
   ],
   "source": [
    "# Creating an array with shape (1, 3)\n",
    "arr = np.array([[1, 2, 3]])\n",
    "print(arr.shape)  # Output: (1, 3)\n",
    "\n",
    "# Squeeze to remove the single-dimensional axis\n",
    "squeezed_arr = np.squeeze(arr)\n",
    "print(squeezed_arr.shape)  # Output: (3,)\n",
    "print(squeezed_arr)        # Output: [1 2 3]"
   ]
  },
  {
   "cell_type": "markdown",
   "id": "e93f4eb4",
   "metadata": {},
   "source": [
    "### No effect if there are no single-dimensional axes"
   ]
  },
  {
   "cell_type": "code",
   "execution_count": 32,
   "id": "f87360e2",
   "metadata": {},
   "outputs": [
    {
     "name": "stdout",
     "output_type": "stream",
     "text": [
      "(3,)\n",
      "(3,)\n"
     ]
    }
   ],
   "source": [
    "arr = np.array([1, 2, 3])\n",
    "print(arr.shape)  # Output: (3,)\n",
    "\n",
    "# Applying squeeze when there is no single-dimensional axis\n",
    "squeezed_arr = np.squeeze(arr)\n",
    "print(squeezed_arr.shape)  # Output: (3,)"
   ]
  },
  {
   "cell_type": "markdown",
   "id": "9336e9ff",
   "metadata": {},
   "source": [
    "To go from a 1D to 2D array, we can just add in another dimension of size 1:"
   ]
  },
  {
   "cell_type": "code",
   "execution_count": 37,
   "id": "4d70b165",
   "metadata": {},
   "outputs": [
    {
     "name": "stdout",
     "output_type": "stream",
     "text": [
      "1\n",
      "2\n"
     ]
    }
   ],
   "source": [
    "import numpy as np\n",
    "\n",
    "y = np.array([1,2])\n",
    "print(y.ndim)\n",
    "\n",
    "y = y.reshape((-1,1))  # (-1, 1, 1)\n",
    "print(y.ndim)"
   ]
  },
  {
   "cell_type": "code",
   "execution_count": 38,
   "id": "952b36dc",
   "metadata": {},
   "outputs": [
    {
     "data": {
      "text/plain": [
       "array([1, 2, 3])"
      ]
     },
     "execution_count": 38,
     "metadata": {},
     "output_type": "execute_result"
    }
   ],
   "source": [
    "m = np.squeeze(y)\n",
    "m"
   ]
  },
  {
   "cell_type": "markdown",
   "id": "62898118",
   "metadata": {},
   "source": [
    "### Broadcast"
   ]
  },
  {
   "cell_type": "markdown",
   "id": "85e36dea",
   "metadata": {},
   "source": [
    "Broadcasting is a mechanism that allows numpy to work with arrays of different shapes when performing arithmetic operations.\n",
    "\n",
    "For example: basic linear algebra, we can only add (and perform similar element-wise operations) two matrics that have the *same* dimension\n",
    "\n",
    "In numpy, if we want to add two matrics that have different dimensions, numpy will implicitly **extend** the dimension of one matrix to match the other so that we can perform the operation."
   ]
  },
  {
   "cell_type": "markdown",
   "id": "493235bd",
   "metadata": {},
   "source": [
    "![](https://sebastianraschka.com/images/blog/2020/numpy-intro/broadcasting-1.png)\n",
    "\n",
    "![](https://sebastianraschka.com/images/blog/2020/numpy-intro/broadcasting-2.png)"
   ]
  },
  {
   "cell_type": "markdown",
   "id": "fd2157a1",
   "metadata": {},
   "source": [
    "**Broadcasting two arrays together follows these rules:**\n",
    "\n",
    "**Rule 1**: If the two arrays differ in their number of dimensions, the shape of the one with fewer dimensions is padded with ones on its leading (left) side.\n",
    "\n",
    "For example, in the following cell, `a` will be implicitly extended to shape (1,3):\n"
   ]
  },
  {
   "cell_type": "code",
   "execution_count": 9,
   "id": "eec3b149",
   "metadata": {
    "collapsed": true,
    "jupyter": {
     "outputs_hidden": true
    }
   },
   "outputs": [
    {
     "name": "stdout",
     "output_type": "stream",
     "text": [
      "[1 2 3]\n",
      "[[4]\n",
      " [5]\n",
      " [6]]\n",
      "[[5 6 7]\n",
      " [6 7 8]\n",
      " [7 8 9]]\n"
     ]
    }
   ],
   "source": [
    "a = np.array([1,2,3])         # has shape (3,): one dimension\n",
    "print(a)\n",
    "\n",
    "b = np.array([[4], [5], [6]]) # has shape (3,1): two dimensions\n",
    "print(b)\n",
    "\n",
    "c = a + b\n",
    "print(c)"
   ]
  },
  {
   "cell_type": "markdown",
   "id": "92f40290",
   "metadata": {},
   "source": [
    "a = `[[1, 2, 3]]   (shape (1, 3))`\n",
    "\n",
    "c =  \\[[1+4, 2+4, 3+4],  # Adding 4 to each element of a\n",
    "\n",
    "     [1+5, 2+5, 3+5],  # Adding 5 to each element of a\n",
    "\n",
    "     [1+6, 2+6, 3+6]]  # Adding 6 to each element of a"
   ]
  },
  {
   "cell_type": "markdown",
   "id": "82c183a7",
   "metadata": {},
   "source": [
    "**Rule 2**: If the shape of the two arrays does not match in any dimension, the array with shape equal to 1 in that dimension is stretched to match the other shape.\n",
    "\n",
    "For example, in the following cell `a` will be implicitly extended to shape (3,2):\n"
   ]
  },
  {
   "cell_type": "code",
   "execution_count": 12,
   "id": "3d4c18f6",
   "metadata": {},
   "outputs": [
    {
     "name": "stdout",
     "output_type": "stream",
     "text": [
      "[[1]\n",
      " [2]\n",
      " [3]]\n",
      "[[4 5]\n",
      " [6 7]\n",
      " [8 9]]\n",
      "[[ 5  6]\n",
      " [ 8  9]\n",
      " [11 12]]\n"
     ]
    }
   ],
   "source": [
    "a = np.array([[1],[2],[3]])         # has shape (3,1)\n",
    "print(a)\n",
    "\n",
    "b = np.array([[4,5], [6,7], [8,9]]) # has shape (3,2)\n",
    "print(b)\n",
    "\n",
    "c = a + b                           # will have shape (3,2)\n",
    "print(c)"
   ]
  },
  {
   "cell_type": "markdown",
   "id": "99a391d5",
   "metadata": {},
   "source": [
    "a = \\[[1, 1],\n",
    "\n",
    "     [2, 2],\n",
    "     \n",
    "     [3, 3]\\]"
   ]
  },
  {
   "cell_type": "markdown",
   "id": "cf57b34d",
   "metadata": {},
   "source": [
    "**Rule 3**: If in any dimension the sizes disagree and neither is equal to 1, an error is raised:"
   ]
  },
  {
   "cell_type": "code",
   "execution_count": 41,
   "id": "5b0fa054",
   "metadata": {
    "collapsed": true,
    "jupyter": {
     "outputs_hidden": true
    }
   },
   "outputs": [
    {
     "name": "stdout",
     "output_type": "stream",
     "text": [
      "[[1]\n",
      " [2]\n",
      " [3]\n",
      " [4]]\n",
      "[[4 5]\n",
      " [6 7]\n",
      " [8 9]]\n"
     ]
    },
    {
     "ename": "ValueError",
     "evalue": "operands could not be broadcast together with shapes (4,1) (3,2) ",
     "output_type": "error",
     "traceback": [
      "\u001b[0;31m---------------------------------------------------------------------------\u001b[0m",
      "\u001b[0;31mValueError\u001b[0m                                Traceback (most recent call last)",
      "Cell \u001b[0;32mIn[41], line 7\u001b[0m\n\u001b[1;32m      4\u001b[0m b \u001b[38;5;241m=\u001b[39m np\u001b[38;5;241m.\u001b[39marray([[\u001b[38;5;241m4\u001b[39m,\u001b[38;5;241m5\u001b[39m], [\u001b[38;5;241m6\u001b[39m,\u001b[38;5;241m7\u001b[39m], [\u001b[38;5;241m8\u001b[39m,\u001b[38;5;241m9\u001b[39m]])  \u001b[38;5;66;03m# has shape (3,2)\u001b[39;00m\n\u001b[1;32m      5\u001b[0m \u001b[38;5;28mprint\u001b[39m(b)\n\u001b[0;32m----> 7\u001b[0m c \u001b[38;5;241m=\u001b[39m \u001b[43ma\u001b[49m\u001b[43m \u001b[49m\u001b[38;5;241;43m+\u001b[39;49m\u001b[43m \u001b[49m\u001b[43mb\u001b[49m\n",
      "\u001b[0;31mValueError\u001b[0m: operands could not be broadcast together with shapes (4,1) (3,2) "
     ]
    }
   ],
   "source": [
    "a = np.array([[1],[2],[3],[4]])      # has shape (4,1)\n",
    "print(a)\n",
    "\n",
    "b = np.array([[4,5], [6,7], [8,9]])  # has shape (3,2)\n",
    "print(b)\n",
    "\n",
    "c = a + b"
   ]
  },
  {
   "cell_type": "markdown",
   "id": "048079cd",
   "metadata": {},
   "source": [
    "## More Linear Algebra with Numpy"
   ]
  },
  {
   "cell_type": "code",
   "execution_count": 15,
   "id": "eb6b8b5b",
   "metadata": {
    "collapsed": true,
    "jupyter": {
     "outputs_hidden": true
    }
   },
   "outputs": [
    {
     "name": "stdout",
     "output_type": "stream",
     "text": [
      "Determinant of A: -2.0000000000000004\n"
     ]
    }
   ],
   "source": [
    "A = np.array([[1, 2], [3, 4]])\n",
    "\n",
    "# Determinant of a matrix\n",
    "det_A = np.linalg.det(A)\n",
    "print(\"Determinant of A:\", det_A)"
   ]
  },
  {
   "attachments": {
    "image-2.png": {
     "image/png": "[encoded data removed]"
    },
    "image-3.png": {
     "image/png": "[encoded data removed]"
    },
    "image-4.png": {
     "image/png": "[encoded data removed]"
    },
    "image.png": {
     "image/png": "[encoded data removed]"
    }
   },
   "cell_type": "markdown",
   "id": "207a9cc2",
   "metadata": {},
   "source": [
    "![image.png](attachment:image.png)\n",
    "\n",
    "![image-4.png](attachment:image-4.png)\n",
    "\n",
    "![image-2.png](attachment:image-2.png)\n",
    "\n",
    "![image-3.png](attachment:image-3.png)"
   ]
  },
  {
   "cell_type": "markdown",
   "id": "d4f98d49",
   "metadata": {},
   "source": [
    "### Solving Linear Equations"
   ]
  },
  {
   "cell_type": "code",
   "execution_count": 45,
   "id": "6275500d",
   "metadata": {},
   "outputs": [
    {
     "name": "stdout",
     "output_type": "stream",
     "text": [
      "Solution: [2. 1.]\n"
     ]
    }
   ],
   "source": [
    "# Example system of linear equations: \n",
    "# 2x + y = 5, \n",
    "# x - y = 1\n",
    "\n",
    "A = np.array([[2, 1], [1, -1]])\n",
    "b = np.array([5, 1])\n",
    "\n",
    "solutions = np.linalg.solve(A, b)\n",
    "print(\"Solution:\", solutions)\n"
   ]
  },
  {
   "attachments": {
    "image.png": {
     "image/png": "[encoded data removed]"
    }
   },
   "cell_type": "markdown",
   "id": "9aa3bd52",
   "metadata": {},
   "source": [
    "### Solve the Following Equation\n",
    "\n",
    "![image.png](attachment:image.png)"
   ]
  },
  {
   "cell_type": "markdown",
   "id": "ec60907a",
   "metadata": {},
   "source": [
    "\n",
    "## Random Numbers with Numpy\n"
   ]
  },
  {
   "cell_type": "markdown",
   "id": "2021615e",
   "metadata": {},
   "source": [
    "**Basic Random Numbers: Uniform Distribution**\n",
    "\n",
    "The basic random number generation in Numpy produces random numbers between 0 and 1, following a uniform distribution.\n"
   ]
  },
  {
   "cell_type": "code",
   "execution_count": 50,
   "id": "1c5098a3",
   "metadata": {
    "scrolled": true
   },
   "outputs": [
    {
     "name": "stdout",
     "output_type": "stream",
     "text": [
      "0.6232981268275579\n",
      "[0.33089802 0.06355835 0.31098232 0.32518332 0.72960618]\n",
      "[[0.63755747 0.88721274 0.47221493]\n",
      " [0.11959425 0.71324479 0.76078505]\n",
      " [0.5612772  0.77096718 0.4937956 ]]\n"
     ]
    }
   ],
   "source": [
    "import numpy as np\n",
    "\n",
    "# Generate a single random number between 0 and 1\n",
    "random_number = np.random.rand()\n",
    "print(random_number)\n",
    "\n",
    "# Generate a 1D array of 5 random numbers\n",
    "random_array_1d = np.random.rand(5)\n",
    "print(random_array_1d)\n",
    "\n",
    "# Generate a 2D array of random numbers (3x3)\n",
    "random_array_2d = np.random.rand(3, 3)\n",
    "print(random_array_2d)"
   ]
  },
  {
   "cell_type": "markdown",
   "id": "91106b25",
   "metadata": {},
   "source": [
    "**Random Integers**\n"
   ]
  },
  {
   "cell_type": "code",
   "execution_count": 59,
   "id": "ccc80334",
   "metadata": {},
   "outputs": [
    {
     "name": "stdout",
     "output_type": "stream",
     "text": [
      "0\n",
      "[4 4 6 8 8]\n",
      "[[2 2]\n",
      " [2 3]\n",
      " [7 5]]\n"
     ]
    }
   ],
   "source": [
    "# Generate a single random integer between 0 and 10\n",
    "random_int = np.random.randint(0, 10)\n",
    "print(random_int)\n",
    "\n",
    "# Generate a 1D array of 5 random integers between 0 and 10\n",
    "random_int_array = np.random.randint(0, 10, size=5)\n",
    "print(random_int_array)\n",
    "\n",
    "# Generate a 2D array of random integers between 0 and 10 (3x2)\n",
    "random_int_array_2d = np.random.randint(0, 10, size=(3, 2))\n",
    "print(random_int_array_2d)"
   ]
  },
  {
   "cell_type": "markdown",
   "id": "6d497f3e",
   "metadata": {},
   "source": [
    "**Random Samples from a Given List**"
   ]
  },
  {
   "cell_type": "code",
   "execution_count": 72,
   "id": "1792ebcb",
   "metadata": {
    "scrolled": true
   },
   "outputs": [
    {
     "name": "stdout",
     "output_type": "stream",
     "text": [
      "[3 2 2]\n",
      "[2 1 1]\n"
     ]
    }
   ],
   "source": [
    "# Randomly choose 3 elements from the list [1, 2, 3, 4, 5]\n",
    "random_sample = np.random.choice([1, 2, 3, 4, 5], size=3)\n",
    "print(random_sample)\n",
    "\n",
    "# Sample with replacement (the same element can be chosen more than once)\n",
    "random_sample_with_replacement = np.random.choice([1, 2, 3, 4, 5], size=3, replace=True)\n",
    "print(random_sample_with_replacement)"
   ]
  },
  {
   "cell_type": "markdown",
   "id": "b99d9296",
   "metadata": {},
   "source": [
    "**Random Numbers with a Specific Seed (Reproducibility)**\n",
    "\n",
    "To ensure reproducibility (i.e., you get the same random numbers every time you run your code), you can set a random seed using `np.random.seed()`"
   ]
  },
  {
   "cell_type": "code",
   "execution_count": 204,
   "id": "ad16d3d5",
   "metadata": {},
   "outputs": [
    {
     "name": "stdout",
     "output_type": "stream",
     "text": [
      "[0.37454012 0.95071431 0.73199394]\n",
      "[0.37454012 0.95071431 0.73199394]\n"
     ]
    }
   ],
   "source": [
    "# Set the seed for reproducibility\n",
    "np.random.seed(42)\n",
    "\n",
    "# Generate random numbers\n",
    "random_numbers = np.random.rand(3)\n",
    "print(random_numbers)\n",
    "\n",
    "# Set the seed again and generate the same numbers\n",
    "np.random.seed(42)\n",
    "random_numbers_again = np.random.rand(3)\n",
    "print(random_numbers_again)"
   ]
  },
  {
   "cell_type": "code",
   "execution_count": null,
   "id": "e08981b9",
   "metadata": {},
   "outputs": [],
   "source": []
  },
  {
   "cell_type": "code",
   "execution_count": null,
   "id": "1c32c4f4-6b57-42ff-82a7-6aa93dda67ec",
   "metadata": {},
   "outputs": [],
   "source": []
  }
 ],
 "metadata": {
  "kernelspec": {
   "display_name": "Python [conda env:base] *",
   "language": "python",
   "name": "conda-base-py"
  },
  "language_info": {
   "codemirror_mode": {
    "name": "ipython",
    "version": 3
   },
   "file_extension": ".py",
   "mimetype": "text/x-python",
   "name": "python",
   "nbconvert_exporter": "python",
   "pygments_lexer": "ipython3",
   "version": "3.13.5"
  }
 },
 "nbformat": 4,
 "nbformat_minor": 5
}
