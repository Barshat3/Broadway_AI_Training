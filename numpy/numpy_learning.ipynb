{
 "cells": [
  {
   "cell_type": "markdown",
   "id": "852b92d6-6e50-4f97-a23e-12c19056a726",
   "metadata": {},
   "source": [
    "# Numpy\n",
    "Numpy is a *numerical python* which is used to deal with array or matrix and it's methods\n",
    "It is installed using pip and the command is `pip install numpy`"
   ]
  },
  {
   "cell_type": "code",
   "execution_count": 2,
   "id": "2a350a55-45a7-419a-9620-8f013dcca870",
   "metadata": {},
   "outputs": [
    {
     "name": "stdout",
     "output_type": "stream",
     "text": [
      "Hello World\n"
     ]
    }
   ],
   "source": [
    "print(\"Hello World\")"
   ]
  },
  {
   "cell_type": "code",
   "execution_count": 3,
   "id": "c8e31c43-5e1a-4572-ab90-7457c3146d6e",
   "metadata": {},
   "outputs": [
    {
     "name": "stdout",
     "output_type": "stream",
     "text": [
      "Namaste\n"
     ]
    }
   ],
   "source": [
    "print(\"Namaste\")"
   ]
  },
  {
   "cell_type": "code",
   "execution_count": 4,
   "id": "46c504ce",
   "metadata": {},
   "outputs": [
    {
     "name": "stdout",
     "output_type": "stream",
     "text": [
      "Requirement already satisfied: numpy in /home/barshat/anaconda3/lib/python3.13/site-packages (2.1.3)\n",
      "Note: you may need to restart the kernel to use updated packages.\n"
     ]
    }
   ],
   "source": [
    "pip install numpy"
   ]
  },
  {
   "cell_type": "code",
   "execution_count": 5,
   "id": "5c869b62-a8ea-4c7f-86fb-c409a48f216a",
   "metadata": {},
   "outputs": [],
   "source": [
    "import numpy as np"
   ]
  },
  {
   "cell_type": "markdown",
   "id": "39b95d2b-b8b9-495b-9808-282c812c77ce",
   "metadata": {},
   "source": [
    "## Arrays vs Python lists"
   ]
  },
  {
   "cell_type": "code",
   "execution_count": 6,
   "id": "da27939a-f3d6-4777-80c7-f0acf2f55448",
   "metadata": {},
   "outputs": [],
   "source": [
    "# python list\n",
    "list_example = [1, \"Hello\", 2, 3.5, 4,5]\n",
    "\n",
    "#numpy array\n",
    "array_example = np.array([1,2,3,4,5], dtype=np.int32)"
   ]
  },
  {
   "cell_type": "code",
   "execution_count": 7,
   "id": "cb04ef4e-5ef3-4f63-a1c1-73cb9aaf1b6e",
   "metadata": {},
   "outputs": [
    {
     "data": {
      "text/plain": [
       "array([1, 2, 3, 4, 5], dtype=int32)"
      ]
     },
     "execution_count": 7,
     "metadata": {},
     "output_type": "execute_result"
    }
   ],
   "source": [
    "array_example"
   ]
  },
  {
   "cell_type": "code",
   "execution_count": 8,
   "id": "8796d732-e8b2-4a81-8e81-7a582e525163",
   "metadata": {},
   "outputs": [],
   "source": [
    "array_example = np.array([1,\"Hello\", 2,3,4,5])\n",
    "#yesma hamile data type ndeko bhayera integer haru chai was changed to string"
   ]
  },
  {
   "cell_type": "code",
   "execution_count": 9,
   "id": "c6f82245-92fa-4e19-bc4f-967134d5a32c",
   "metadata": {},
   "outputs": [
    {
     "data": {
      "text/plain": [
       "array(['1', 'Hello', '2', '3', '4', '5'], dtype='<U21')"
      ]
     },
     "execution_count": 9,
     "metadata": {},
     "output_type": "execute_result"
    }
   ],
   "source": [
    "array_example"
   ]
  },
  {
   "cell_type": "markdown",
   "id": "96eb82ef-e8d6-4383-8d28-da9a7ce03081",
   "metadata": {},
   "source": [
    "## Arrays and array consturction"
   ]
  },
  {
   "cell_type": "code",
   "execution_count": 10,
   "id": "5b5119fa-8655-4e7f-bdc2-8e8d5839d6b9",
   "metadata": {},
   "outputs": [
    {
     "name": "stdout",
     "output_type": "stream",
     "text": [
      "[1 2 3]\n"
     ]
    }
   ],
   "source": [
    "# one dimenstional array i.e 1*3 matrix banxa\n",
    "a = np.array([1,2,3])\n",
    "print(a)"
   ]
  },
  {
   "cell_type": "code",
   "execution_count": 11,
   "id": "58f613ec-01fb-4f37-b3fd-775bea444be1",
   "metadata": {},
   "outputs": [
    {
     "name": "stdout",
     "output_type": "stream",
     "text": [
      "<class 'numpy.ndarray'> \n",
      " Shape:  (3,) \n",
      " Indexed elements: 1 2 3\n"
     ]
    }
   ],
   "source": [
    "print( type(a), \"\\n\",\"Shape: \", a.shape, \"\\n\", \"Indexed elements:\", a[0], a[1], a[2])"
   ]
  },
  {
   "cell_type": "markdown",
   "id": "1dc51164-961b-4255-8776-79f2eb12afa0",
   "metadata": {},
   "source": [
    "### More dimensions in array"
   ]
  },
  {
   "cell_type": "code",
   "execution_count": 12,
   "id": "6e1fd314-2611-4df0-8c93-c9aa1a7e49f7",
   "metadata": {},
   "outputs": [],
   "source": [
    "b = np.array([[1,2],[3,4]])\n",
    "# Yesle chai euta 2*2 ko matrix banayo i.e 2D, first row chai 1,2 hunxa ani second row chai 3,4 "
   ]
  },
  {
   "cell_type": "code",
   "execution_count": 13,
   "id": "c75c46f2-1853-494c-b263-0e9e4da1ba68",
   "metadata": {},
   "outputs": [
    {
     "data": {
      "text/plain": [
       "(2, 2)"
      ]
     },
     "execution_count": 13,
     "metadata": {},
     "output_type": "execute_result"
    }
   ],
   "source": [
    "b.shape"
   ]
  },
  {
   "cell_type": "code",
   "execution_count": 14,
   "id": "01771592-4185-4522-b39d-2073a3e6cc10",
   "metadata": {},
   "outputs": [
    {
     "data": {
      "text/plain": [
       "array([[1, 2],\n",
       "       [3, 4]])"
      ]
     },
     "execution_count": 14,
     "metadata": {},
     "output_type": "execute_result"
    }
   ],
   "source": [
    "b"
   ]
  },
  {
   "cell_type": "code",
   "execution_count": 15,
   "id": "6e239e83-01c3-4386-b292-dbb7f6945f5b",
   "metadata": {},
   "outputs": [],
   "source": [
    "c = np.array([[1,2],[3,4],[5,6]])"
   ]
  },
  {
   "cell_type": "code",
   "execution_count": 16,
   "id": "271a2abf-aa1d-46d2-89f3-5f25baa049c4",
   "metadata": {},
   "outputs": [
    {
     "data": {
      "text/plain": [
       "array([[1, 2],\n",
       "       [3, 4],\n",
       "       [5, 6]])"
      ]
     },
     "execution_count": 16,
     "metadata": {},
     "output_type": "execute_result"
    }
   ],
   "source": [
    "c"
   ]
  },
  {
   "cell_type": "code",
   "execution_count": 17,
   "id": "865287d9-112a-4b06-92d0-2feeae8f8a88",
   "metadata": {},
   "outputs": [],
   "source": [
    "d = np.array([[[1,2], [3,4], [5,6], [7,8]]])\n",
    "# yo cahi euta 3D array banyo"
   ]
  },
  {
   "cell_type": "code",
   "execution_count": 18,
   "id": "bc7faffe-bf85-48b6-a89d-9ea4fb69b56a",
   "metadata": {},
   "outputs": [
    {
     "data": {
      "text/plain": [
       "array([[[1, 2],\n",
       "        [3, 4],\n",
       "        [5, 6],\n",
       "        [7, 8]]])"
      ]
     },
     "execution_count": 18,
     "metadata": {},
     "output_type": "execute_result"
    }
   ],
   "source": [
    "d"
   ]
  },
  {
   "cell_type": "code",
   "execution_count": 19,
   "id": "36553753-8270-4b7c-8a94-3aab4e98bc35",
   "metadata": {},
   "outputs": [
    {
     "data": {
      "text/plain": [
       "2"
      ]
     },
     "execution_count": 19,
     "metadata": {},
     "output_type": "execute_result"
    }
   ],
   "source": [
    "b.ndim"
   ]
  },
  {
   "cell_type": "code",
   "execution_count": 20,
   "id": "6597b28a-f001-41b9-af4c-9991cdb9fba5",
   "metadata": {},
   "outputs": [],
   "source": [
    "b = np.array([[[1,2], [3,4]], [[5,6], [7,8]]])"
   ]
  },
  {
   "cell_type": "code",
   "execution_count": 21,
   "id": "a24890ee-e59d-4489-ba76-a1aa811ea3d1",
   "metadata": {},
   "outputs": [
    {
     "name": "stdout",
     "output_type": "stream",
     "text": [
      "(2, 2, 2)\n"
     ]
    }
   ],
   "source": [
    "print(b.shape)"
   ]
  },
  {
   "cell_type": "code",
   "execution_count": 22,
   "id": "3b4127d9-77ee-4e9e-94b3-d52fb3c8a548",
   "metadata": {},
   "outputs": [
    {
     "data": {
      "text/plain": [
       "3"
      ]
     },
     "execution_count": 22,
     "metadata": {},
     "output_type": "execute_result"
    }
   ],
   "source": [
    "b.ndim"
   ]
  },
  {
   "cell_type": "markdown",
   "id": "b447bda6-850f-45fc-bca5-88dad82419ea",
   "metadata": {},
   "source": [
    "## Array indexing"
   ]
  },
  {
   "cell_type": "code",
   "execution_count": 23,
   "id": "e08591c4-f535-474a-8294-23cb739a0936",
   "metadata": {},
   "outputs": [],
   "source": [
    "#1D array ko lagi normal list jastai indexing ho\n",
    "#2D array ko indexing example: array[row,column]\n",
    "a = np.array([[1,2,3,4], [5,6,7,8], [9,10,11,12]])"
   ]
  },
  {
   "cell_type": "code",
   "execution_count": 24,
   "id": "e7b270b5-9cd7-46e1-bd15-5ba762bc3963",
   "metadata": {},
   "outputs": [
    {
     "name": "stdout",
     "output_type": "stream",
     "text": [
      "[[ 1  2  3  4]\n",
      " [ 5  6  7  8]\n",
      " [ 9 10 11 12]]\n"
     ]
    }
   ],
   "source": [
    "print(a)"
   ]
  },
  {
   "cell_type": "code",
   "execution_count": 25,
   "id": "5be69510-e94f-40b7-bd2c-a28f2faeac35",
   "metadata": {},
   "outputs": [],
   "source": [
    "# Use slicing to pull out subarray consisting of the first 2 rows\n",
    "b = a[:2]"
   ]
  },
  {
   "cell_type": "code",
   "execution_count": 26,
   "id": "290de1ae-21b1-4952-ae1f-5152908fb75e",
   "metadata": {},
   "outputs": [
    {
     "data": {
      "text/plain": [
       "array([[1, 2, 3, 4],\n",
       "       [5, 6, 7, 8]])"
      ]
     },
     "execution_count": 26,
     "metadata": {},
     "output_type": "execute_result"
    }
   ],
   "source": [
    "b"
   ]
  },
  {
   "cell_type": "code",
   "execution_count": 27,
   "id": "e749cbb0-9598-4817-bf6e-3167d37e4acc",
   "metadata": {},
   "outputs": [
    {
     "data": {
      "text/plain": [
       "array([[2, 3],\n",
       "       [6, 7]])"
      ]
     },
     "execution_count": 27,
     "metadata": {},
     "output_type": "execute_result"
    }
   ],
   "source": [
    "# Use slicing to pull out subarray consisting of the first 2 rows and columns 1 and 2\n",
    "c = a[:2, 1:3]\n",
    "c"
   ]
  },
  {
   "cell_type": "code",
   "execution_count": 28,
   "id": "f8cd7406-0891-4d89-9c33-34bd4cad8a54",
   "metadata": {},
   "outputs": [
    {
     "data": {
      "text/plain": [
       "array([[ 5,  6],\n",
       "       [ 9, 10]])"
      ]
     },
     "execution_count": 28,
     "metadata": {},
     "output_type": "execute_result"
    }
   ],
   "source": [
    "# Get this output: \n",
    "# [[5,6]\n",
    "#  [9, 10]]\n",
    "d = a [1:3, :2]\n",
    "d"
   ]
  },
  {
   "cell_type": "markdown",
   "id": "727420e2-a719-425c-b192-9f7109d6fed9",
   "metadata": {},
   "source": [
    "## Initializing values in array"
   ]
  },
  {
   "cell_type": "markdown",
   "id": "fce57183-c32d-49e4-9144-948601e96a9c",
   "metadata": {},
   "source": [
    "### Ones "
   ]
  },
  {
   "cell_type": "code",
   "execution_count": 29,
   "id": "71078f62-626f-44bc-aa77-402feca4c477",
   "metadata": {},
   "outputs": [
    {
     "data": {
      "text/plain": [
       "array([1., 1., 1.])"
      ]
     },
     "execution_count": 29,
     "metadata": {},
     "output_type": "execute_result"
    }
   ],
   "source": [
    "a = np.ones(3)\n",
    "a"
   ]
  },
  {
   "cell_type": "code",
   "execution_count": 30,
   "id": "7cd588de-ea0c-4245-bc62-319462acef4a",
   "metadata": {},
   "outputs": [
    {
     "data": {
      "text/plain": [
       "array([[1., 1., 1.],\n",
       "       [1., 1., 1.]])"
      ]
     },
     "execution_count": 30,
     "metadata": {},
     "output_type": "execute_result"
    }
   ],
   "source": [
    "b = np.ones((2,3))\n",
    "b"
   ]
  },
  {
   "cell_type": "code",
   "execution_count": 31,
   "id": "6dc99a04-fa61-4059-972c-21998448d855",
   "metadata": {},
   "outputs": [
    {
     "data": {
      "text/plain": [
       "array([[[1., 1.],\n",
       "        [1., 1.],\n",
       "        [1., 1.]],\n",
       "\n",
       "       [[1., 1.],\n",
       "        [1., 1.],\n",
       "        [1., 1.]],\n",
       "\n",
       "       [[1., 1.],\n",
       "        [1., 1.],\n",
       "        [1., 1.]],\n",
       "\n",
       "       [[1., 1.],\n",
       "        [1., 1.],\n",
       "        [1., 1.]]])"
      ]
     },
     "execution_count": 31,
     "metadata": {},
     "output_type": "execute_result"
    }
   ],
   "source": [
    "c = np.ones((4,3,2))\n",
    "c"
   ]
  },
  {
   "cell_type": "markdown",
   "id": "d7940c7a-ef83-49fe-8b48-8a8575fab5c8",
   "metadata": {},
   "source": [
    "### Constant array "
   ]
  },
  {
   "cell_type": "code",
   "execution_count": 32,
   "id": "1e3b1e89-0c8a-46cc-bd5b-e64d7419695f",
   "metadata": {},
   "outputs": [
    {
     "data": {
      "text/plain": [
       "array([2, 2, 2])"
      ]
     },
     "execution_count": 32,
     "metadata": {},
     "output_type": "execute_result"
    }
   ],
   "source": [
    "a = np.full((3),2)\n",
    "a"
   ]
  },
  {
   "cell_type": "code",
   "execution_count": 33,
   "id": "8720a9c4-1210-49f1-92f3-8cc7e3638ccc",
   "metadata": {},
   "outputs": [
    {
     "data": {
      "text/plain": [
       "array([[7, 7],\n",
       "       [7, 7],\n",
       "       [7, 7]])"
      ]
     },
     "execution_count": 33,
     "metadata": {},
     "output_type": "execute_result"
    }
   ],
   "source": [
    "b = np.full((3,2),7)\n",
    "b"
   ]
  },
  {
   "cell_type": "markdown",
   "id": "5c714b86-4b33-467c-93cc-a204f3eda9ad",
   "metadata": {},
   "source": [
    "### Random value"
   ]
  },
  {
   "cell_type": "code",
   "execution_count": 34,
   "id": "39456edb-4b56-40cc-b1bd-1096f07fcce2",
   "metadata": {},
   "outputs": [
    {
     "data": {
      "text/plain": [
       "array([0.80067935, 0.64932021, 0.03890216])"
      ]
     },
     "execution_count": 34,
     "metadata": {},
     "output_type": "execute_result"
    }
   ],
   "source": [
    "a = np.random.random(3)\n",
    "a"
   ]
  },
  {
   "cell_type": "markdown",
   "id": "1dc27026-8fd6-43ad-9f6f-764ff825e5cc",
   "metadata": {},
   "source": [
    "### Identity matrix"
   ]
  },
  {
   "cell_type": "code",
   "execution_count": 35,
   "id": "e83ee63a-f9ce-468b-92a2-2528b9be4029",
   "metadata": {},
   "outputs": [
    {
     "data": {
      "text/plain": [
       "array([[1., 0.],\n",
       "       [0., 1.]])"
      ]
     },
     "execution_count": 35,
     "metadata": {},
     "output_type": "execute_result"
    }
   ],
   "source": [
    "d = np.eye(2)\n",
    "d"
   ]
  },
  {
   "cell_type": "code",
   "execution_count": 36,
   "id": "c5379bde-1313-4884-a729-7f5a36c1b282",
   "metadata": {},
   "outputs": [
    {
     "data": {
      "text/plain": [
       "array([[1., 0., 0.],\n",
       "       [0., 1., 0.],\n",
       "       [0., 0., 1.]])"
      ]
     },
     "execution_count": 36,
     "metadata": {},
     "output_type": "execute_result"
    }
   ],
   "source": [
    "e = np.eye(3)\n",
    "e"
   ]
  },
  {
   "cell_type": "markdown",
   "id": "8050db39-61d0-4b80-87b7-9ceda00ec82b",
   "metadata": {},
   "source": [
    "## Stacking of array"
   ]
  },
  {
   "cell_type": "code",
   "execution_count": 37,
   "id": "1ed1b877-fa62-478e-b230-ae7cfd56c06c",
   "metadata": {},
   "outputs": [
    {
     "data": {
      "text/plain": [
       "array([[1, 2, 3],\n",
       "       [4, 5, 6]])"
      ]
     },
     "execution_count": 37,
     "metadata": {},
     "output_type": "execute_result"
    }
   ],
   "source": [
    "#vertical stack\n",
    "a = np.array([1,2,3])\n",
    "b = np.array([4,5,6])\n",
    "np.vstack((a,b))"
   ]
  },
  {
   "cell_type": "code",
   "execution_count": 38,
   "id": "b93050cc-8610-4f24-9070-0ce6d044e113",
   "metadata": {},
   "outputs": [
    {
     "data": {
      "text/plain": [
       "array([1, 2, 3, 4, 5, 6])"
      ]
     },
     "execution_count": 38,
     "metadata": {},
     "output_type": "execute_result"
    }
   ],
   "source": [
    "# horizontal stacking\n",
    "np.hstack((a,b))"
   ]
  },
  {
   "cell_type": "code",
   "execution_count": 39,
   "id": "e04f8ca2-92d4-4928-826d-51ad62153501",
   "metadata": {},
   "outputs": [
    {
     "data": {
      "text/plain": [
       "array([[1, 4],\n",
       "       [2, 5],\n",
       "       [3, 6]])"
      ]
     },
     "execution_count": 39,
     "metadata": {},
     "output_type": "execute_result"
    }
   ],
   "source": [
    "# arko horizontal stacking\n",
    "a = np.array([[1],[2],[3]])\n",
    "b = np.array([[4],[5],[6]])\n",
    "np.hstack((a,b))"
   ]
  },
  {
   "cell_type": "markdown",
   "id": "8b49f005-5734-44b1-b099-b9c024ec1b3f",
   "metadata": {},
   "source": [
    "## Array math "
   ]
  },
  {
   "cell_type": "code",
   "execution_count": 40,
   "id": "8907f855-f9d7-47da-a78e-da9557564ede",
   "metadata": {},
   "outputs": [
    {
     "data": {
      "text/plain": [
       "array([0.5695405 , 0.91471355, 0.92921159, ..., 0.4051434 , 0.80923839,\n",
       "       0.09868033])"
      ]
     },
     "execution_count": 40,
     "metadata": {},
     "output_type": "execute_result"
    }
   ],
   "source": [
    "a = np.random.random(10000)\n",
    "a"
   ]
  },
  {
   "cell_type": "code",
   "execution_count": 41,
   "id": "c561539b-bd83-4000-a4ca-1a0b151138a3",
   "metadata": {},
   "outputs": [
    {
     "name": "stdout",
     "output_type": "stream",
     "text": [
      "CPU times: user 619 μs, sys: 95 μs, total: 714 μs\n",
      "Wall time: 769 μs\n"
     ]
    },
    {
     "data": {
      "text/plain": [
       "np.float64(4953.117314278965)"
      ]
     },
     "execution_count": 41,
     "metadata": {},
     "output_type": "execute_result"
    }
   ],
   "source": [
    "%%time\n",
    "x = np.sum(a)\n",
    "x"
   ]
  },
  {
   "cell_type": "code",
   "execution_count": 42,
   "id": "184a2c4f-8e69-4c56-8e7c-04a89d75cbab",
   "metadata": {},
   "outputs": [
    {
     "name": "stdout",
     "output_type": "stream",
     "text": [
      "CPU times: user 10.3 ms, sys: 0 ns, total: 10.3 ms\n",
      "Wall time: 12.2 ms\n"
     ]
    }
   ],
   "source": [
    "%%time \n",
    "x = 0\n",
    "for element in a:\n",
    "    x = x+element"
   ]
  },
  {
   "cell_type": "code",
   "execution_count": 43,
   "id": "41cb6a90-7500-4c31-8445-b6641a6e68ee",
   "metadata": {},
   "outputs": [],
   "source": [
    "x = np.array([[1,2],[3,4]])\n",
    "y = np.array([[5,6],[8,9]])"
   ]
  },
  {
   "cell_type": "code",
   "execution_count": 44,
   "id": "e89f52c2-7922-4f42-83b7-1fc551a0daa3",
   "metadata": {},
   "outputs": [
    {
     "name": "stdout",
     "output_type": "stream",
     "text": [
      "[[ 6  8]\n",
      " [11 13]]\n",
      "[[ 6  8]\n",
      " [11 13]]\n"
     ]
    }
   ],
   "source": [
    "# Addition  \n",
    "print(x+y)\n",
    "print(np.add(x,y))"
   ]
  },
  {
   "cell_type": "code",
   "execution_count": 46,
   "id": "dfb411f5-18f8-4c82-a37a-70238a30ba82",
   "metadata": {},
   "outputs": [
    {
     "name": "stdout",
     "output_type": "stream",
     "text": [
      "[[-4 -4]\n",
      " [-5 -5]]\n",
      "[[-4 -4]\n",
      " [-5 -5]]\n"
     ]
    }
   ],
   "source": [
    "# Subtraction \n",
    "print(x-y)\n",
    "print(np.subtract(x,y))"
   ]
  },
  {
   "cell_type": "code",
   "execution_count": 47,
   "id": "b16e000c-c629-4024-8de0-b60307234c24",
   "metadata": {},
   "outputs": [
    {
     "name": "stdout",
     "output_type": "stream",
     "text": [
      "[[ 5 12]\n",
      " [24 36]]\n",
      "[[ 5 12]\n",
      " [24 36]]\n"
     ]
    }
   ],
   "source": [
    "# multiplication (element wise)\n",
    "print(x*y)\n",
    "print(np.multiply(x,y))"
   ]
  },
  {
   "cell_type": "code",
   "execution_count": 48,
   "id": "8c43aa51-7101-430d-bc96-95041a8c88c0",
   "metadata": {},
   "outputs": [
    {
     "name": "stdout",
     "output_type": "stream",
     "text": [
      "[[0.2        0.33333333]\n",
      " [0.375      0.44444444]]\n",
      "[[0.2        0.33333333]\n",
      " [0.375      0.44444444]]\n"
     ]
    }
   ],
   "source": [
    "# elementwise division\n",
    "print(x/y)\n",
    "print(np.divide(x,y))"
   ]
  },
  {
   "cell_type": "code",
   "execution_count": 50,
   "id": "04bbcd68-0d56-45ed-a26c-b506646e35f4",
   "metadata": {},
   "outputs": [
    {
     "name": "stdout",
     "output_type": "stream",
     "text": [
      "[[1.         1.41421356]\n",
      " [1.73205081 2.        ]]\n"
     ]
    }
   ],
   "source": [
    "# elementwise square root\n",
    "print(np.sqrt(x))"
   ]
  },
  {
   "cell_type": "markdown",
   "id": "5925d8af-3c43-43eb-bc26-8ee67c3ea387",
   "metadata": {},
   "source": [
    "### Dot product"
   ]
  },
  {
   "cell_type": "code",
   "execution_count": 52,
   "id": "00e454ae-b508-4f3f-b90d-c1e7c9463ac5",
   "metadata": {},
   "outputs": [
    {
     "name": "stdout",
     "output_type": "stream",
     "text": [
      "219\n",
      "219\n"
     ]
    }
   ],
   "source": [
    "x = np.array([[1,2],[3,4]])\n",
    "y = np.array([[5,6],[8,9]])\n",
    "\n",
    "v = np.array([9,10])\n",
    "w = np.array([11,12])\n",
    "\n",
    "print(v.dot(w))\n",
    "print(np.dot(v,w))"
   ]
  },
  {
   "cell_type": "code",
   "execution_count": 54,
   "id": "4bffe4dc-41cd-4140-b028-5411109bcb24",
   "metadata": {},
   "outputs": [
    {
     "name": "stdout",
     "output_type": "stream",
     "text": [
      "The predicted price is $145000\n"
     ]
    }
   ],
   "source": [
    "# Practical example of dot product\n",
    "\n",
    "features = np.array([1500, 3, 10])\n",
    "weights = np.array([100,5000, -2000])\n",
    "\n",
    "predicted_price = np.dot(features,weights)\n",
    "\n",
    "print(f\"The predicted price is ${predicted_price}\")"
   ]
  },
  {
   "cell_type": "code",
   "execution_count": 56,
   "id": "3714f97b-42d1-4cda-a293-061750afb358",
   "metadata": {},
   "outputs": [
    {
     "name": "stdout",
     "output_type": "stream",
     "text": [
      "ball\n",
      "[2 3]\n"
     ]
    }
   ],
   "source": [
    "preds = np.array([0.2, 0.5, 0.92, 0.9, 0.1])\n",
    "to_predict_class = [\"apple\", \"banana\", \"ball\", \"mango\",\"orange\"]\n",
    "\n",
    "predicted_class_index = np.argmax(preds)\n",
    "predicted_class = to_predict_class[predicted_class_index]\n",
    "print(predicted_class)\n",
    "\n",
    "possible_class_index = np.where(preds > 0.85)[0]\n",
    "print(possible_class_index)"
   ]
  },
  {
   "cell_type": "markdown",
   "id": "8bc4e19f-d4d2-4734-8ed8-4725c132f8a6",
   "metadata": {},
   "source": [
    "### argmax (index of maximum element in array)\n",
    "### argmin (index of minimum element in array)\n",
    "### argsort(get soted list of indices, by element value, in ascending order)\n",
    "### where (get indicies of elements that meet some condition)"
   ]
  },
  {
   "cell_type": "code",
   "execution_count": 57,
   "id": "ff6ae0c5-ac6d-4e14-8cbf-999973782052",
   "metadata": {},
   "outputs": [],
   "source": [
    "a = np.array([1, 8, 9, -3, 2, 4, 7, 9])"
   ]
  },
  {
   "cell_type": "code",
   "execution_count": 58,
   "id": "b38a212c-bdd6-4b08-a598-99ed89c64925",
   "metadata": {},
   "outputs": [
    {
     "name": "stdout",
     "output_type": "stream",
     "text": [
      "2\n"
     ]
    }
   ],
   "source": [
    "print(np.argmax(a))"
   ]
  },
  {
   "cell_type": "code",
   "execution_count": 59,
   "id": "bb4fba05-2392-4fba-9fd2-7c4fcf698496",
   "metadata": {},
   "outputs": [
    {
     "name": "stdout",
     "output_type": "stream",
     "text": [
      "3\n"
     ]
    }
   ],
   "source": [
    "print(np.argmin(a))"
   ]
  },
  {
   "cell_type": "code",
   "execution_count": 60,
   "id": "80c90b0f-89d0-48a3-ae6d-fc9bfc03020f",
   "metadata": {},
   "outputs": [
    {
     "name": "stdout",
     "output_type": "stream",
     "text": [
      "[3 0 4 5 6 1 2 7]\n"
     ]
    }
   ],
   "source": [
    "print(np.argsort(a))"
   ]
  },
  {
   "cell_type": "code",
   "execution_count": 61,
   "id": "e791cf7e-b329-44a3-aee5-fc7e7cbab97e",
   "metadata": {},
   "outputs": [
    {
     "name": "stdout",
     "output_type": "stream",
     "text": [
      "[7 2 1 6 5 4 0 3]\n"
     ]
    }
   ],
   "source": [
    "# reverse nikalna \n",
    "print(np.argsort(a)[::-1])"
   ]
  },
  {
   "cell_type": "code",
   "execution_count": 64,
   "id": "c3e0c36f-26a8-4a42-8e03-2d6d3ca17425",
   "metadata": {},
   "outputs": [
    {
     "name": "stdout",
     "output_type": "stream",
     "text": [
      "[1 2 6 7]\n",
      "[2 7]\n"
     ]
    }
   ],
   "source": [
    "print(np.where(a>5)[0])\n",
    "\n",
    "print(np.where(a>= a[np.argmax(a)])[0])"
   ]
  },
  {
   "cell_type": "markdown",
   "id": "a5d001df-a5ca-4ad1-91d9-d6481cd8a2f0",
   "metadata": {},
   "source": [
    "### max: Maximum value dinxa\n",
    "### min: minimum value dinxa\n",
    "### sum: Sum dinxa"
   ]
  },
  {
   "cell_type": "code",
   "execution_count": 66,
   "id": "9d369a5a-b6d7-4756-bd55-3cf68bf1ab53",
   "metadata": {},
   "outputs": [],
   "source": [
    "x = np.array([[1,2], [3,4], [5,6]])"
   ]
  },
  {
   "cell_type": "code",
   "execution_count": 67,
   "id": "be498ea9-b211-4a28-9f03-eab2523545c3",
   "metadata": {},
   "outputs": [
    {
     "name": "stdout",
     "output_type": "stream",
     "text": [
      "6\n",
      "1\n",
      "21\n"
     ]
    }
   ],
   "source": [
    "print(np.max(x))\n",
    "print(np.min(x))\n",
    "print(np.sum(x))"
   ]
  },
  {
   "cell_type": "code",
   "execution_count": 71,
   "id": "3fcb945c-2878-40c0-b3e2-15091fdac981",
   "metadata": {},
   "outputs": [
    {
     "name": "stdout",
     "output_type": "stream",
     "text": [
      "[[1 2 8]\n",
      " [5 3 1]\n",
      " [4 6 5]]\n"
     ]
    }
   ],
   "source": [
    "x = np.array([[1,2,8], [5,3,1], [4,6,5]])\n",
    "print(x)"
   ]
  },
  {
   "cell_type": "code",
   "execution_count": 72,
   "id": "63c4dfcd-f4bb-46bb-a377-dbc445f7569e",
   "metadata": {},
   "outputs": [
    {
     "name": "stdout",
     "output_type": "stream",
     "text": [
      "[5 6 8]\n"
     ]
    }
   ],
   "source": [
    "print(np.max(x, axis = 0)) # compute max of each column"
   ]
  },
  {
   "cell_type": "code",
   "execution_count": 73,
   "id": "e6a6a753-40c7-4444-a969-a19c613b6ba1",
   "metadata": {},
   "outputs": [
    {
     "name": "stdout",
     "output_type": "stream",
     "text": [
      "[8 5 6]\n"
     ]
    }
   ],
   "source": [
    "print(np.max(x, axis = 1)) #compute minimum of each row "
   ]
  },
  {
   "cell_type": "markdown",
   "id": "cb685d9b-a675-4fa2-8dae-e001ffdf2b67",
   "metadata": {},
   "source": [
    "### Transnpose "
   ]
  },
  {
   "cell_type": "code",
   "execution_count": 74,
   "id": "ee9584dd-b01d-458a-b76f-72c00f231003",
   "metadata": {},
   "outputs": [
    {
     "name": "stdout",
     "output_type": "stream",
     "text": [
      "[1 2]\n"
     ]
    }
   ],
   "source": [
    "ary = np.array([1,2])\n",
    "print(ary)"
   ]
  },
  {
   "cell_type": "code",
   "execution_count": 75,
   "id": "3d557026-ef22-485d-91cc-c9a4a40d5eb4",
   "metadata": {},
   "outputs": [
    {
     "data": {
      "text/plain": [
       "array([1, 2])"
      ]
     },
     "execution_count": 75,
     "metadata": {},
     "output_type": "execute_result"
    }
   ],
   "source": [
    "ary.T"
   ]
  },
  {
   "cell_type": "code",
   "execution_count": 76,
   "id": "d0f48332-22f4-4322-8035-4f8c08b6ecde",
   "metadata": {},
   "outputs": [
    {
     "name": "stdout",
     "output_type": "stream",
     "text": [
      "[[1 2]\n",
      " [3 4]\n",
      " [5 6]]\n"
     ]
    }
   ],
   "source": [
    "x = np.array([[1,2], [3,4], [5,6]])\n",
    "print(x)"
   ]
  },
  {
   "cell_type": "code",
   "execution_count": 77,
   "id": "b4d4d902-48b5-41a0-a0cd-99be308bf93e",
   "metadata": {},
   "outputs": [
    {
     "data": {
      "text/plain": [
       "array([[1, 3, 5],\n",
       "       [2, 4, 6]])"
      ]
     },
     "execution_count": 77,
     "metadata": {},
     "output_type": "execute_result"
    }
   ],
   "source": [
    "x.T"
   ]
  },
  {
   "cell_type": "markdown",
   "id": "1a897035-e974-47fe-b73c-c178950c26a0",
   "metadata": {},
   "source": [
    "### Reshape"
   ]
  },
  {
   "cell_type": "code",
   "execution_count": 78,
   "id": "a2e17484-8f44-4911-89a8-1b512edbeddb",
   "metadata": {},
   "outputs": [
    {
     "name": "stdout",
     "output_type": "stream",
     "text": [
      "[1 2 3 4 5 6 7 8]\n"
     ]
    }
   ],
   "source": [
    "data = np.array([1,2,3,4,5,6,7,8])\n",
    "print(data)"
   ]
  },
  {
   "cell_type": "code",
   "execution_count": 79,
   "id": "c6b01c7f-81b6-4840-9310-c8578e6a7013",
   "metadata": {},
   "outputs": [
    {
     "data": {
      "text/plain": [
       "array([[1, 2, 3, 4],\n",
       "       [5, 6, 7, 8]])"
      ]
     },
     "execution_count": 79,
     "metadata": {},
     "output_type": "execute_result"
    }
   ],
   "source": [
    "data.reshape(2,4)"
   ]
  },
  {
   "cell_type": "code",
   "execution_count": 80,
   "id": "a08eb36d-9f78-452a-a94e-0de6dbb57389",
   "metadata": {},
   "outputs": [
    {
     "data": {
      "text/plain": [
       "array([[1, 2],\n",
       "       [3, 4],\n",
       "       [5, 6],\n",
       "       [7, 8]])"
      ]
     },
     "execution_count": 80,
     "metadata": {},
     "output_type": "execute_result"
    }
   ],
   "source": [
    "data.reshape(4,2)"
   ]
  },
  {
   "cell_type": "code",
   "execution_count": 84,
   "id": "a110e1a9-4011-4548-bdaf-92b7e15edbf2",
   "metadata": {},
   "outputs": [
    {
     "name": "stdout",
     "output_type": "stream",
     "text": [
      "[[1]\n",
      " [2]\n",
      " [3]]\n"
     ]
    },
    {
     "data": {
      "text/plain": [
       "(3, 1)"
      ]
     },
     "execution_count": 84,
     "metadata": {},
     "output_type": "execute_result"
    }
   ],
   "source": [
    "w = np.array([[1], [2], [3]])\n",
    "print(w)\n",
    "w.shape"
   ]
  },
  {
   "cell_type": "code",
   "execution_count": 83,
   "id": "97c4369c-e57f-4e69-b4a9-d8aa630af641",
   "metadata": {},
   "outputs": [
    {
     "name": "stdout",
     "output_type": "stream",
     "text": [
      "[1 2 3]\n"
     ]
    },
    {
     "data": {
      "text/plain": [
       "(3,)"
      ]
     },
     "execution_count": 83,
     "metadata": {},
     "output_type": "execute_result"
    }
   ],
   "source": [
    "# removing unnecessary dimensions\n",
    "y = w.reshape(-1,)\n",
    "print(y)\n",
    "y.shape"
   ]
  },
  {
   "cell_type": "code",
   "execution_count": 86,
   "id": "5c8521b2-4f01-4435-b198-b5c3f186f40c",
   "metadata": {},
   "outputs": [
    {
     "name": "stdout",
     "output_type": "stream",
     "text": [
      "2\n",
      "1\n"
     ]
    }
   ],
   "source": [
    "# removind dimensio using squeeze\n",
    "w = np.array([[1], [2], [3]])\n",
    "print(w.ndim)\n",
    "squeezedw = np.squeeze(w)\n",
    "print(squeezedw.ndim)"
   ]
  },
  {
   "cell_type": "code",
   "execution_count": 89,
   "id": "eff48c3b-c34a-4571-98e9-3cb9a2994791",
   "metadata": {},
   "outputs": [
    {
     "name": "stdout",
     "output_type": "stream",
     "text": [
      "1\n",
      "2\n",
      "[[1]\n",
      " [2]\n",
      " [3]]\n"
     ]
    }
   ],
   "source": [
    "# Adding dimension\n",
    "y = np.array([1,2,3])\n",
    "print(y.ndim)\n",
    "\n",
    "y = y.reshape(-1,1)\n",
    "print(y.ndim)\n",
    "print(y)"
   ]
  },
  {
   "cell_type": "code",
   "execution_count": null,
   "id": "80608096-447b-4927-ac11-2a219cba0dfe",
   "metadata": {},
   "outputs": [],
   "source": []
  }
 ],
 "metadata": {
  "kernelspec": {
   "display_name": "Python [conda env:base] *",
   "language": "python",
   "name": "conda-base-py"
  },
  "language_info": {
   "codemirror_mode": {
    "name": "ipython",
    "version": 3
   },
   "file_extension": ".py",
   "mimetype": "text/x-python",
   "name": "python",
   "nbconvert_exporter": "python",
   "pygments_lexer": "ipython3",
   "version": "3.13.5"
  }
 },
 "nbformat": 4,
 "nbformat_minor": 5
}
